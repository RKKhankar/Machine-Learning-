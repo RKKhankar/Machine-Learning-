{
 "cells": [
  {
   "cell_type": "code",
   "execution_count": 95,
   "id": "bdbd0828",
   "metadata": {},
   "outputs": [],
   "source": [
    "import numpy as np\n",
    "import pandas as pd\n",
    "import matplotlib.pyplot as plt \n",
    "import seaborn as sns\n",
    "import statsmodels.api as sm\n",
    "import warnings\n",
    "\n",
    "from sklearn.model_selection import train_test_split\n",
    "from sklearn.preprocessing import LabelEncoder\n",
    "from sklearn.ensemble import RandomForestRegressor\n",
    "from xgboost import XGBRegressor\n",
    "from sklearn.svm import SVR\n",
    "from sklearn.linear_model import ElasticNet\n",
    "from sklearn.metrics import mean_squared_error\n",
    "from sklearn.model_selection import cross_val_score\n",
    "from scipy.stats import shapiro\n",
    "\n",
    "warnings.filterwarnings('ignore')\n",
    "sns.set()"
   ]
  },
  {
   "cell_type": "code",
   "execution_count": 96,
   "id": "ef626483",
   "metadata": {},
   "outputs": [],
   "source": [
    "train_raw = pd.read_csv(\"train.csv\")\n",
    "train = train_raw.copy()\n",
    "test_raw = pd.read_csv(\"test.csv\")\n",
    "test = test_raw.copy()"
   ]
  },
  {
   "cell_type": "code",
   "execution_count": 97,
   "id": "35903517",
   "metadata": {},
   "outputs": [
    {
     "data": {
      "text/html": [
       "<div>\n",
       "<style scoped>\n",
       "    .dataframe tbody tr th:only-of-type {\n",
       "        vertical-align: middle;\n",
       "    }\n",
       "\n",
       "    .dataframe tbody tr th {\n",
       "        vertical-align: top;\n",
       "    }\n",
       "\n",
       "    .dataframe thead th {\n",
       "        text-align: right;\n",
       "    }\n",
       "</style>\n",
       "<table border=\"1\" class=\"dataframe\">\n",
       "  <thead>\n",
       "    <tr style=\"text-align: right;\">\n",
       "      <th></th>\n",
       "      <th>ID</th>\n",
       "      <th>y</th>\n",
       "      <th>X0</th>\n",
       "      <th>X1</th>\n",
       "      <th>X2</th>\n",
       "      <th>X3</th>\n",
       "      <th>X4</th>\n",
       "      <th>X5</th>\n",
       "      <th>X6</th>\n",
       "      <th>X8</th>\n",
       "      <th>...</th>\n",
       "      <th>X375</th>\n",
       "      <th>X376</th>\n",
       "      <th>X377</th>\n",
       "      <th>X378</th>\n",
       "      <th>X379</th>\n",
       "      <th>X380</th>\n",
       "      <th>X382</th>\n",
       "      <th>X383</th>\n",
       "      <th>X384</th>\n",
       "      <th>X385</th>\n",
       "    </tr>\n",
       "  </thead>\n",
       "  <tbody>\n",
       "    <tr>\n",
       "      <th>0</th>\n",
       "      <td>0</td>\n",
       "      <td>130.81</td>\n",
       "      <td>k</td>\n",
       "      <td>v</td>\n",
       "      <td>at</td>\n",
       "      <td>a</td>\n",
       "      <td>d</td>\n",
       "      <td>u</td>\n",
       "      <td>j</td>\n",
       "      <td>o</td>\n",
       "      <td>...</td>\n",
       "      <td>0</td>\n",
       "      <td>0</td>\n",
       "      <td>1</td>\n",
       "      <td>0</td>\n",
       "      <td>0</td>\n",
       "      <td>0</td>\n",
       "      <td>0</td>\n",
       "      <td>0</td>\n",
       "      <td>0</td>\n",
       "      <td>0</td>\n",
       "    </tr>\n",
       "    <tr>\n",
       "      <th>1</th>\n",
       "      <td>6</td>\n",
       "      <td>88.53</td>\n",
       "      <td>k</td>\n",
       "      <td>t</td>\n",
       "      <td>av</td>\n",
       "      <td>e</td>\n",
       "      <td>d</td>\n",
       "      <td>y</td>\n",
       "      <td>l</td>\n",
       "      <td>o</td>\n",
       "      <td>...</td>\n",
       "      <td>1</td>\n",
       "      <td>0</td>\n",
       "      <td>0</td>\n",
       "      <td>0</td>\n",
       "      <td>0</td>\n",
       "      <td>0</td>\n",
       "      <td>0</td>\n",
       "      <td>0</td>\n",
       "      <td>0</td>\n",
       "      <td>0</td>\n",
       "    </tr>\n",
       "    <tr>\n",
       "      <th>2</th>\n",
       "      <td>7</td>\n",
       "      <td>76.26</td>\n",
       "      <td>az</td>\n",
       "      <td>w</td>\n",
       "      <td>n</td>\n",
       "      <td>c</td>\n",
       "      <td>d</td>\n",
       "      <td>x</td>\n",
       "      <td>j</td>\n",
       "      <td>x</td>\n",
       "      <td>...</td>\n",
       "      <td>0</td>\n",
       "      <td>0</td>\n",
       "      <td>0</td>\n",
       "      <td>0</td>\n",
       "      <td>0</td>\n",
       "      <td>0</td>\n",
       "      <td>1</td>\n",
       "      <td>0</td>\n",
       "      <td>0</td>\n",
       "      <td>0</td>\n",
       "    </tr>\n",
       "  </tbody>\n",
       "</table>\n",
       "<p>3 rows × 378 columns</p>\n",
       "</div>"
      ],
      "text/plain": [
       "   ID       y  X0 X1  X2 X3 X4 X5 X6 X8  ...  X375  X376  X377  X378  X379  \\\n",
       "0   0  130.81   k  v  at  a  d  u  j  o  ...     0     0     1     0     0   \n",
       "1   6   88.53   k  t  av  e  d  y  l  o  ...     1     0     0     0     0   \n",
       "2   7   76.26  az  w   n  c  d  x  j  x  ...     0     0     0     0     0   \n",
       "\n",
       "   X380  X382  X383  X384  X385  \n",
       "0     0     0     0     0     0  \n",
       "1     0     0     0     0     0  \n",
       "2     0     1     0     0     0  \n",
       "\n",
       "[3 rows x 378 columns]"
      ]
     },
     "execution_count": 97,
     "metadata": {},
     "output_type": "execute_result"
    }
   ],
   "source": [
    "train.head(3)"
   ]
  },
  {
   "cell_type": "code",
   "execution_count": 98,
   "id": "0fe53a5f",
   "metadata": {},
   "outputs": [
    {
     "data": {
      "text/html": [
       "<div>\n",
       "<style scoped>\n",
       "    .dataframe tbody tr th:only-of-type {\n",
       "        vertical-align: middle;\n",
       "    }\n",
       "\n",
       "    .dataframe tbody tr th {\n",
       "        vertical-align: top;\n",
       "    }\n",
       "\n",
       "    .dataframe thead th {\n",
       "        text-align: right;\n",
       "    }\n",
       "</style>\n",
       "<table border=\"1\" class=\"dataframe\">\n",
       "  <thead>\n",
       "    <tr style=\"text-align: right;\">\n",
       "      <th></th>\n",
       "      <th>ID</th>\n",
       "      <th>X0</th>\n",
       "      <th>X1</th>\n",
       "      <th>X2</th>\n",
       "      <th>X3</th>\n",
       "      <th>X4</th>\n",
       "      <th>X5</th>\n",
       "      <th>X6</th>\n",
       "      <th>X8</th>\n",
       "      <th>X10</th>\n",
       "      <th>...</th>\n",
       "      <th>X375</th>\n",
       "      <th>X376</th>\n",
       "      <th>X377</th>\n",
       "      <th>X378</th>\n",
       "      <th>X379</th>\n",
       "      <th>X380</th>\n",
       "      <th>X382</th>\n",
       "      <th>X383</th>\n",
       "      <th>X384</th>\n",
       "      <th>X385</th>\n",
       "    </tr>\n",
       "  </thead>\n",
       "  <tbody>\n",
       "    <tr>\n",
       "      <th>0</th>\n",
       "      <td>1</td>\n",
       "      <td>az</td>\n",
       "      <td>v</td>\n",
       "      <td>n</td>\n",
       "      <td>f</td>\n",
       "      <td>d</td>\n",
       "      <td>t</td>\n",
       "      <td>a</td>\n",
       "      <td>w</td>\n",
       "      <td>0</td>\n",
       "      <td>...</td>\n",
       "      <td>0</td>\n",
       "      <td>0</td>\n",
       "      <td>0</td>\n",
       "      <td>1</td>\n",
       "      <td>0</td>\n",
       "      <td>0</td>\n",
       "      <td>0</td>\n",
       "      <td>0</td>\n",
       "      <td>0</td>\n",
       "      <td>0</td>\n",
       "    </tr>\n",
       "    <tr>\n",
       "      <th>1</th>\n",
       "      <td>2</td>\n",
       "      <td>t</td>\n",
       "      <td>b</td>\n",
       "      <td>ai</td>\n",
       "      <td>a</td>\n",
       "      <td>d</td>\n",
       "      <td>b</td>\n",
       "      <td>g</td>\n",
       "      <td>y</td>\n",
       "      <td>0</td>\n",
       "      <td>...</td>\n",
       "      <td>0</td>\n",
       "      <td>0</td>\n",
       "      <td>1</td>\n",
       "      <td>0</td>\n",
       "      <td>0</td>\n",
       "      <td>0</td>\n",
       "      <td>0</td>\n",
       "      <td>0</td>\n",
       "      <td>0</td>\n",
       "      <td>0</td>\n",
       "    </tr>\n",
       "    <tr>\n",
       "      <th>2</th>\n",
       "      <td>3</td>\n",
       "      <td>az</td>\n",
       "      <td>v</td>\n",
       "      <td>as</td>\n",
       "      <td>f</td>\n",
       "      <td>d</td>\n",
       "      <td>a</td>\n",
       "      <td>j</td>\n",
       "      <td>j</td>\n",
       "      <td>0</td>\n",
       "      <td>...</td>\n",
       "      <td>0</td>\n",
       "      <td>0</td>\n",
       "      <td>0</td>\n",
       "      <td>1</td>\n",
       "      <td>0</td>\n",
       "      <td>0</td>\n",
       "      <td>0</td>\n",
       "      <td>0</td>\n",
       "      <td>0</td>\n",
       "      <td>0</td>\n",
       "    </tr>\n",
       "  </tbody>\n",
       "</table>\n",
       "<p>3 rows × 377 columns</p>\n",
       "</div>"
      ],
      "text/plain": [
       "   ID  X0 X1  X2 X3 X4 X5 X6 X8  X10  ...  X375  X376  X377  X378  X379  X380  \\\n",
       "0   1  az  v   n  f  d  t  a  w    0  ...     0     0     0     1     0     0   \n",
       "1   2   t  b  ai  a  d  b  g  y    0  ...     0     0     1     0     0     0   \n",
       "2   3  az  v  as  f  d  a  j  j    0  ...     0     0     0     1     0     0   \n",
       "\n",
       "   X382  X383  X384  X385  \n",
       "0     0     0     0     0  \n",
       "1     0     0     0     0  \n",
       "2     0     0     0     0  \n",
       "\n",
       "[3 rows x 377 columns]"
      ]
     },
     "execution_count": 98,
     "metadata": {},
     "output_type": "execute_result"
    }
   ],
   "source": [
    "test.head(3)"
   ]
  },
  {
   "cell_type": "markdown",
   "id": "b7face68",
   "metadata": {},
   "source": [
    "#### As the test data is only for predictions, we'll have our analysis on train data only."
   ]
  },
  {
   "cell_type": "code",
   "execution_count": 99,
   "id": "988f535e",
   "metadata": {},
   "outputs": [
    {
     "data": {
      "text/plain": [
       "True"
      ]
     },
     "execution_count": 99,
     "metadata": {},
     "output_type": "execute_result"
    }
   ],
   "source": [
    "train['ID'].nunique() == len(train)"
   ]
  },
  {
   "cell_type": "markdown",
   "id": "2133ce5d",
   "metadata": {},
   "source": [
    "### The ID is just index number and hence we can drop it from the analysis."
   ]
  },
  {
   "cell_type": "code",
   "execution_count": 100,
   "id": "2332337d",
   "metadata": {},
   "outputs": [],
   "source": [
    "train.drop('ID', axis=1, inplace=True)\n",
    "test.drop('ID', axis=1, inplace=True)"
   ]
  },
  {
   "cell_type": "code",
   "execution_count": 101,
   "id": "fb357435",
   "metadata": {},
   "outputs": [
    {
     "name": "stdout",
     "output_type": "stream",
     "text": [
      "y\n"
     ]
    }
   ],
   "source": [
    "#Finding the target variable\n",
    "for col in train.columns:\n",
    "    if col not in test.columns:\n",
    "        print(col)"
   ]
  },
  {
   "cell_type": "markdown",
   "id": "787cabfe",
   "metadata": {},
   "source": [
    "##### The target variable is y."
   ]
  },
  {
   "cell_type": "markdown",
   "id": "7312acb6",
   "metadata": {},
   "source": [
    "#### Exploratory Data Analysis"
   ]
  },
  {
   "cell_type": "code",
   "execution_count": 102,
   "id": "f1306a28",
   "metadata": {},
   "outputs": [
    {
     "data": {
      "text/plain": [
       "(4209, 377)"
      ]
     },
     "execution_count": 102,
     "metadata": {},
     "output_type": "execute_result"
    }
   ],
   "source": [
    "train.shape"
   ]
  },
  {
   "cell_type": "markdown",
   "id": "da831e69",
   "metadata": {},
   "source": [
    "## The data set is huge in terms of number of features."
   ]
  },
  {
   "cell_type": "code",
   "execution_count": 103,
   "id": "d140da9e",
   "metadata": {},
   "outputs": [
    {
     "data": {
      "text/plain": [
       "0"
      ]
     },
     "execution_count": 103,
     "metadata": {},
     "output_type": "execute_result"
    }
   ],
   "source": [
    "#checking for missing values.\n",
    "train.isna().sum().sum()"
   ]
  },
  {
   "cell_type": "markdown",
   "id": "04cc361b",
   "metadata": {},
   "source": [
    "### There are no missing values in train data."
   ]
  },
  {
   "cell_type": "code",
   "execution_count": 104,
   "id": "39f2f1c0",
   "metadata": {},
   "outputs": [
    {
     "data": {
      "text/plain": [
       "array([dtype('float64'), dtype('O'), dtype('int64')], dtype=object)"
      ]
     },
     "execution_count": 104,
     "metadata": {},
     "output_type": "execute_result"
    }
   ],
   "source": [
    "train.dtypes.unique()"
   ]
  },
  {
   "cell_type": "markdown",
   "id": "8cbf5a88",
   "metadata": {},
   "source": [
    "### There are 3 unique datatypes in train data."
   ]
  },
  {
   "cell_type": "code",
   "execution_count": 105,
   "id": "c4202c2e",
   "metadata": {},
   "outputs": [
    {
     "name": "stdout",
     "output_type": "stream",
     "text": [
      "No of columns having integer value :  368\n",
      "No of columns having string value :  8\n",
      "No of columns having float value :  1\n"
     ]
    }
   ],
   "source": [
    "print('No of columns having integer value : ', sum(train.dtypes==\"int64\"))\n",
    "print('No of columns having string value : ', sum(train.dtypes==\"object\"))\n",
    "print('No of columns having float value : ', sum(train.dtypes==\"float64\"))"
   ]
  },
  {
   "cell_type": "code",
   "execution_count": 106,
   "id": "06909b97",
   "metadata": {},
   "outputs": [
    {
     "data": {
      "text/html": [
       "<div>\n",
       "<style scoped>\n",
       "    .dataframe tbody tr th:only-of-type {\n",
       "        vertical-align: middle;\n",
       "    }\n",
       "\n",
       "    .dataframe tbody tr th {\n",
       "        vertical-align: top;\n",
       "    }\n",
       "\n",
       "    .dataframe thead th {\n",
       "        text-align: right;\n",
       "    }\n",
       "</style>\n",
       "<table border=\"1\" class=\"dataframe\">\n",
       "  <thead>\n",
       "    <tr style=\"text-align: right;\">\n",
       "      <th></th>\n",
       "      <th>X10</th>\n",
       "      <th>X11</th>\n",
       "      <th>X12</th>\n",
       "      <th>X13</th>\n",
       "      <th>X14</th>\n",
       "      <th>X15</th>\n",
       "      <th>X16</th>\n",
       "      <th>X17</th>\n",
       "      <th>X18</th>\n",
       "      <th>X19</th>\n",
       "      <th>...</th>\n",
       "      <th>X375</th>\n",
       "      <th>X376</th>\n",
       "      <th>X377</th>\n",
       "      <th>X378</th>\n",
       "      <th>X379</th>\n",
       "      <th>X380</th>\n",
       "      <th>X382</th>\n",
       "      <th>X383</th>\n",
       "      <th>X384</th>\n",
       "      <th>X385</th>\n",
       "    </tr>\n",
       "  </thead>\n",
       "  <tbody>\n",
       "    <tr>\n",
       "      <th>count</th>\n",
       "      <td>4209.000000</td>\n",
       "      <td>4209.0</td>\n",
       "      <td>4209.000000</td>\n",
       "      <td>4209.000000</td>\n",
       "      <td>4209.000000</td>\n",
       "      <td>4209.000000</td>\n",
       "      <td>4209.000000</td>\n",
       "      <td>4209.000000</td>\n",
       "      <td>4209.000000</td>\n",
       "      <td>4209.000000</td>\n",
       "      <td>...</td>\n",
       "      <td>4209.000000</td>\n",
       "      <td>4209.000000</td>\n",
       "      <td>4209.000000</td>\n",
       "      <td>4209.000000</td>\n",
       "      <td>4209.000000</td>\n",
       "      <td>4209.000000</td>\n",
       "      <td>4209.000000</td>\n",
       "      <td>4209.000000</td>\n",
       "      <td>4209.000000</td>\n",
       "      <td>4209.000000</td>\n",
       "    </tr>\n",
       "    <tr>\n",
       "      <th>mean</th>\n",
       "      <td>0.013305</td>\n",
       "      <td>0.0</td>\n",
       "      <td>0.075077</td>\n",
       "      <td>0.057971</td>\n",
       "      <td>0.428130</td>\n",
       "      <td>0.000475</td>\n",
       "      <td>0.002613</td>\n",
       "      <td>0.007603</td>\n",
       "      <td>0.007840</td>\n",
       "      <td>0.099549</td>\n",
       "      <td>...</td>\n",
       "      <td>0.318841</td>\n",
       "      <td>0.057258</td>\n",
       "      <td>0.314802</td>\n",
       "      <td>0.020670</td>\n",
       "      <td>0.009503</td>\n",
       "      <td>0.008078</td>\n",
       "      <td>0.007603</td>\n",
       "      <td>0.001663</td>\n",
       "      <td>0.000475</td>\n",
       "      <td>0.001426</td>\n",
       "    </tr>\n",
       "    <tr>\n",
       "      <th>std</th>\n",
       "      <td>0.114590</td>\n",
       "      <td>0.0</td>\n",
       "      <td>0.263547</td>\n",
       "      <td>0.233716</td>\n",
       "      <td>0.494867</td>\n",
       "      <td>0.021796</td>\n",
       "      <td>0.051061</td>\n",
       "      <td>0.086872</td>\n",
       "      <td>0.088208</td>\n",
       "      <td>0.299433</td>\n",
       "      <td>...</td>\n",
       "      <td>0.466082</td>\n",
       "      <td>0.232363</td>\n",
       "      <td>0.464492</td>\n",
       "      <td>0.142294</td>\n",
       "      <td>0.097033</td>\n",
       "      <td>0.089524</td>\n",
       "      <td>0.086872</td>\n",
       "      <td>0.040752</td>\n",
       "      <td>0.021796</td>\n",
       "      <td>0.037734</td>\n",
       "    </tr>\n",
       "    <tr>\n",
       "      <th>min</th>\n",
       "      <td>0.000000</td>\n",
       "      <td>0.0</td>\n",
       "      <td>0.000000</td>\n",
       "      <td>0.000000</td>\n",
       "      <td>0.000000</td>\n",
       "      <td>0.000000</td>\n",
       "      <td>0.000000</td>\n",
       "      <td>0.000000</td>\n",
       "      <td>0.000000</td>\n",
       "      <td>0.000000</td>\n",
       "      <td>...</td>\n",
       "      <td>0.000000</td>\n",
       "      <td>0.000000</td>\n",
       "      <td>0.000000</td>\n",
       "      <td>0.000000</td>\n",
       "      <td>0.000000</td>\n",
       "      <td>0.000000</td>\n",
       "      <td>0.000000</td>\n",
       "      <td>0.000000</td>\n",
       "      <td>0.000000</td>\n",
       "      <td>0.000000</td>\n",
       "    </tr>\n",
       "    <tr>\n",
       "      <th>25%</th>\n",
       "      <td>0.000000</td>\n",
       "      <td>0.0</td>\n",
       "      <td>0.000000</td>\n",
       "      <td>0.000000</td>\n",
       "      <td>0.000000</td>\n",
       "      <td>0.000000</td>\n",
       "      <td>0.000000</td>\n",
       "      <td>0.000000</td>\n",
       "      <td>0.000000</td>\n",
       "      <td>0.000000</td>\n",
       "      <td>...</td>\n",
       "      <td>0.000000</td>\n",
       "      <td>0.000000</td>\n",
       "      <td>0.000000</td>\n",
       "      <td>0.000000</td>\n",
       "      <td>0.000000</td>\n",
       "      <td>0.000000</td>\n",
       "      <td>0.000000</td>\n",
       "      <td>0.000000</td>\n",
       "      <td>0.000000</td>\n",
       "      <td>0.000000</td>\n",
       "    </tr>\n",
       "    <tr>\n",
       "      <th>50%</th>\n",
       "      <td>0.000000</td>\n",
       "      <td>0.0</td>\n",
       "      <td>0.000000</td>\n",
       "      <td>0.000000</td>\n",
       "      <td>0.000000</td>\n",
       "      <td>0.000000</td>\n",
       "      <td>0.000000</td>\n",
       "      <td>0.000000</td>\n",
       "      <td>0.000000</td>\n",
       "      <td>0.000000</td>\n",
       "      <td>...</td>\n",
       "      <td>0.000000</td>\n",
       "      <td>0.000000</td>\n",
       "      <td>0.000000</td>\n",
       "      <td>0.000000</td>\n",
       "      <td>0.000000</td>\n",
       "      <td>0.000000</td>\n",
       "      <td>0.000000</td>\n",
       "      <td>0.000000</td>\n",
       "      <td>0.000000</td>\n",
       "      <td>0.000000</td>\n",
       "    </tr>\n",
       "    <tr>\n",
       "      <th>75%</th>\n",
       "      <td>0.000000</td>\n",
       "      <td>0.0</td>\n",
       "      <td>0.000000</td>\n",
       "      <td>0.000000</td>\n",
       "      <td>1.000000</td>\n",
       "      <td>0.000000</td>\n",
       "      <td>0.000000</td>\n",
       "      <td>0.000000</td>\n",
       "      <td>0.000000</td>\n",
       "      <td>0.000000</td>\n",
       "      <td>...</td>\n",
       "      <td>1.000000</td>\n",
       "      <td>0.000000</td>\n",
       "      <td>1.000000</td>\n",
       "      <td>0.000000</td>\n",
       "      <td>0.000000</td>\n",
       "      <td>0.000000</td>\n",
       "      <td>0.000000</td>\n",
       "      <td>0.000000</td>\n",
       "      <td>0.000000</td>\n",
       "      <td>0.000000</td>\n",
       "    </tr>\n",
       "    <tr>\n",
       "      <th>max</th>\n",
       "      <td>1.000000</td>\n",
       "      <td>0.0</td>\n",
       "      <td>1.000000</td>\n",
       "      <td>1.000000</td>\n",
       "      <td>1.000000</td>\n",
       "      <td>1.000000</td>\n",
       "      <td>1.000000</td>\n",
       "      <td>1.000000</td>\n",
       "      <td>1.000000</td>\n",
       "      <td>1.000000</td>\n",
       "      <td>...</td>\n",
       "      <td>1.000000</td>\n",
       "      <td>1.000000</td>\n",
       "      <td>1.000000</td>\n",
       "      <td>1.000000</td>\n",
       "      <td>1.000000</td>\n",
       "      <td>1.000000</td>\n",
       "      <td>1.000000</td>\n",
       "      <td>1.000000</td>\n",
       "      <td>1.000000</td>\n",
       "      <td>1.000000</td>\n",
       "    </tr>\n",
       "  </tbody>\n",
       "</table>\n",
       "<p>8 rows × 368 columns</p>\n",
       "</div>"
      ],
      "text/plain": [
       "               X10     X11          X12          X13          X14  \\\n",
       "count  4209.000000  4209.0  4209.000000  4209.000000  4209.000000   \n",
       "mean      0.013305     0.0     0.075077     0.057971     0.428130   \n",
       "std       0.114590     0.0     0.263547     0.233716     0.494867   \n",
       "min       0.000000     0.0     0.000000     0.000000     0.000000   \n",
       "25%       0.000000     0.0     0.000000     0.000000     0.000000   \n",
       "50%       0.000000     0.0     0.000000     0.000000     0.000000   \n",
       "75%       0.000000     0.0     0.000000     0.000000     1.000000   \n",
       "max       1.000000     0.0     1.000000     1.000000     1.000000   \n",
       "\n",
       "               X15          X16          X17          X18          X19  ...  \\\n",
       "count  4209.000000  4209.000000  4209.000000  4209.000000  4209.000000  ...   \n",
       "mean      0.000475     0.002613     0.007603     0.007840     0.099549  ...   \n",
       "std       0.021796     0.051061     0.086872     0.088208     0.299433  ...   \n",
       "min       0.000000     0.000000     0.000000     0.000000     0.000000  ...   \n",
       "25%       0.000000     0.000000     0.000000     0.000000     0.000000  ...   \n",
       "50%       0.000000     0.000000     0.000000     0.000000     0.000000  ...   \n",
       "75%       0.000000     0.000000     0.000000     0.000000     0.000000  ...   \n",
       "max       1.000000     1.000000     1.000000     1.000000     1.000000  ...   \n",
       "\n",
       "              X375         X376         X377         X378         X379  \\\n",
       "count  4209.000000  4209.000000  4209.000000  4209.000000  4209.000000   \n",
       "mean      0.318841     0.057258     0.314802     0.020670     0.009503   \n",
       "std       0.466082     0.232363     0.464492     0.142294     0.097033   \n",
       "min       0.000000     0.000000     0.000000     0.000000     0.000000   \n",
       "25%       0.000000     0.000000     0.000000     0.000000     0.000000   \n",
       "50%       0.000000     0.000000     0.000000     0.000000     0.000000   \n",
       "75%       1.000000     0.000000     1.000000     0.000000     0.000000   \n",
       "max       1.000000     1.000000     1.000000     1.000000     1.000000   \n",
       "\n",
       "              X380         X382         X383         X384         X385  \n",
       "count  4209.000000  4209.000000  4209.000000  4209.000000  4209.000000  \n",
       "mean      0.008078     0.007603     0.001663     0.000475     0.001426  \n",
       "std       0.089524     0.086872     0.040752     0.021796     0.037734  \n",
       "min       0.000000     0.000000     0.000000     0.000000     0.000000  \n",
       "25%       0.000000     0.000000     0.000000     0.000000     0.000000  \n",
       "50%       0.000000     0.000000     0.000000     0.000000     0.000000  \n",
       "75%       0.000000     0.000000     0.000000     0.000000     0.000000  \n",
       "max       1.000000     1.000000     1.000000     1.000000     1.000000  \n",
       "\n",
       "[8 rows x 368 columns]"
      ]
     },
     "execution_count": 106,
     "metadata": {},
     "output_type": "execute_result"
    }
   ],
   "source": [
    "#Summarising Integer cols\n",
    "train.describe(include = 'int64')"
   ]
  },
  {
   "cell_type": "code",
   "execution_count": 107,
   "id": "6781d119",
   "metadata": {},
   "outputs": [
    {
     "data": {
      "text/plain": [
       "array([1., 0.])"
      ]
     },
     "execution_count": 107,
     "metadata": {},
     "output_type": "execute_result"
    }
   ],
   "source": [
    "train.describe(include = 'int64').T['max'].unique()"
   ]
  },
  {
   "cell_type": "code",
   "execution_count": 108,
   "id": "d5a4d223",
   "metadata": {},
   "outputs": [
    {
     "data": {
      "text/plain": [
       "array([0.])"
      ]
     },
     "execution_count": 108,
     "metadata": {},
     "output_type": "execute_result"
    }
   ],
   "source": [
    "train.describe(include = 'int64').T['min'].unique()"
   ]
  },
  {
   "cell_type": "markdown",
   "id": "ce521bf6",
   "metadata": {},
   "source": [
    "### All the integer variables are 0 & 1 only indicating all are categorical features. "
   ]
  },
  {
   "cell_type": "code",
   "execution_count": 109,
   "id": "edf02505",
   "metadata": {},
   "outputs": [
    {
     "data": {
      "text/html": [
       "<div>\n",
       "<style scoped>\n",
       "    .dataframe tbody tr th:only-of-type {\n",
       "        vertical-align: middle;\n",
       "    }\n",
       "\n",
       "    .dataframe tbody tr th {\n",
       "        vertical-align: top;\n",
       "    }\n",
       "\n",
       "    .dataframe thead th {\n",
       "        text-align: right;\n",
       "    }\n",
       "</style>\n",
       "<table border=\"1\" class=\"dataframe\">\n",
       "  <thead>\n",
       "    <tr style=\"text-align: right;\">\n",
       "      <th></th>\n",
       "      <th>X0</th>\n",
       "      <th>X1</th>\n",
       "      <th>X2</th>\n",
       "      <th>X3</th>\n",
       "      <th>X4</th>\n",
       "      <th>X5</th>\n",
       "      <th>X6</th>\n",
       "      <th>X8</th>\n",
       "    </tr>\n",
       "  </thead>\n",
       "  <tbody>\n",
       "    <tr>\n",
       "      <th>count</th>\n",
       "      <td>4209</td>\n",
       "      <td>4209</td>\n",
       "      <td>4209</td>\n",
       "      <td>4209</td>\n",
       "      <td>4209</td>\n",
       "      <td>4209</td>\n",
       "      <td>4209</td>\n",
       "      <td>4209</td>\n",
       "    </tr>\n",
       "    <tr>\n",
       "      <th>unique</th>\n",
       "      <td>47</td>\n",
       "      <td>27</td>\n",
       "      <td>44</td>\n",
       "      <td>7</td>\n",
       "      <td>4</td>\n",
       "      <td>29</td>\n",
       "      <td>12</td>\n",
       "      <td>25</td>\n",
       "    </tr>\n",
       "    <tr>\n",
       "      <th>top</th>\n",
       "      <td>z</td>\n",
       "      <td>aa</td>\n",
       "      <td>as</td>\n",
       "      <td>c</td>\n",
       "      <td>d</td>\n",
       "      <td>w</td>\n",
       "      <td>g</td>\n",
       "      <td>j</td>\n",
       "    </tr>\n",
       "    <tr>\n",
       "      <th>freq</th>\n",
       "      <td>360</td>\n",
       "      <td>833</td>\n",
       "      <td>1659</td>\n",
       "      <td>1942</td>\n",
       "      <td>4205</td>\n",
       "      <td>231</td>\n",
       "      <td>1042</td>\n",
       "      <td>277</td>\n",
       "    </tr>\n",
       "  </tbody>\n",
       "</table>\n",
       "</div>"
      ],
      "text/plain": [
       "          X0    X1    X2    X3    X4    X5    X6    X8\n",
       "count   4209  4209  4209  4209  4209  4209  4209  4209\n",
       "unique    47    27    44     7     4    29    12    25\n",
       "top        z    aa    as     c     d     w     g     j\n",
       "freq     360   833  1659  1942  4205   231  1042   277"
      ]
     },
     "execution_count": 109,
     "metadata": {},
     "output_type": "execute_result"
    }
   ],
   "source": [
    "#summarising the string variables.\n",
    "train.describe(include='O')"
   ]
  },
  {
   "cell_type": "code",
   "execution_count": 110,
   "id": "93ffc0c9",
   "metadata": {},
   "outputs": [
    {
     "name": "stdout",
     "output_type": "stream",
     "text": [
      "unique values in X0 columns\n",
      "['k' 'az' 't' 'al' 'o' 'w' 'j' 'h' 's' 'n' 'ay' 'f' 'x' 'y' 'aj' 'ak' 'am'\n",
      " 'z' 'q' 'at' 'ap' 'v' 'af' 'a' 'e' 'ai' 'd' 'aq' 'c' 'aa' 'ba' 'as' 'i'\n",
      " 'r' 'b' 'ax' 'bc' 'u' 'ad' 'au' 'm' 'l' 'aw' 'ao' 'ac' 'g' 'ab']\n",
      "unique values in X1 columns\n",
      "['v' 't' 'w' 'b' 'r' 'l' 's' 'aa' 'c' 'a' 'e' 'h' 'z' 'j' 'o' 'u' 'p' 'n'\n",
      " 'i' 'y' 'd' 'f' 'm' 'k' 'g' 'q' 'ab']\n",
      "unique values in X2 columns\n",
      "['at' 'av' 'n' 'e' 'as' 'aq' 'r' 'ai' 'ak' 'm' 'a' 'k' 'ae' 's' 'f' 'd'\n",
      " 'ag' 'ay' 'ac' 'ap' 'g' 'i' 'aw' 'y' 'b' 'ao' 'al' 'h' 'x' 'au' 't' 'an'\n",
      " 'z' 'ah' 'p' 'am' 'j' 'q' 'af' 'l' 'aa' 'c' 'o' 'ar']\n",
      "unique values in X3 columns\n",
      "['a' 'e' 'c' 'f' 'd' 'b' 'g']\n",
      "unique values in X4 columns\n",
      "['d' 'b' 'c' 'a']\n",
      "unique values in X5 columns\n",
      "['u' 'y' 'x' 'h' 'g' 'f' 'j' 'i' 'd' 'c' 'af' 'ag' 'ab' 'ac' 'ad' 'ae'\n",
      " 'ah' 'l' 'k' 'n' 'm' 'p' 'q' 's' 'r' 'v' 'w' 'o' 'aa']\n",
      "unique values in X6 columns\n",
      "['j' 'l' 'd' 'h' 'i' 'a' 'g' 'c' 'k' 'e' 'f' 'b']\n",
      "unique values in X8 columns\n",
      "['o' 'x' 'e' 'n' 's' 'a' 'h' 'p' 'm' 'k' 'd' 'i' 'v' 'j' 'b' 'q' 'w' 'g'\n",
      " 'y' 'l' 'f' 'u' 'r' 't' 'c']\n"
     ]
    }
   ],
   "source": [
    "#printing unique values.\n",
    "for x in train.describe(include='object').T.index:\n",
    "    print(\"unique values in {} columns\".format(x),train[x].unique(),sep=\"\\n\")"
   ]
  },
  {
   "cell_type": "code",
   "execution_count": 111,
   "id": "c2e63d06",
   "metadata": {},
   "outputs": [
    {
     "data": {
      "text/html": [
       "<div>\n",
       "<style scoped>\n",
       "    .dataframe tbody tr th:only-of-type {\n",
       "        vertical-align: middle;\n",
       "    }\n",
       "\n",
       "    .dataframe tbody tr th {\n",
       "        vertical-align: top;\n",
       "    }\n",
       "\n",
       "    .dataframe thead th {\n",
       "        text-align: right;\n",
       "    }\n",
       "</style>\n",
       "<table border=\"1\" class=\"dataframe\">\n",
       "  <thead>\n",
       "    <tr style=\"text-align: right;\">\n",
       "      <th></th>\n",
       "      <th>Features</th>\n",
       "      <th># of unique values</th>\n",
       "    </tr>\n",
       "  </thead>\n",
       "  <tbody>\n",
       "    <tr>\n",
       "      <th>0</th>\n",
       "      <td>X0</td>\n",
       "      <td>47</td>\n",
       "    </tr>\n",
       "    <tr>\n",
       "      <th>1</th>\n",
       "      <td>X1</td>\n",
       "      <td>27</td>\n",
       "    </tr>\n",
       "    <tr>\n",
       "      <th>2</th>\n",
       "      <td>X2</td>\n",
       "      <td>44</td>\n",
       "    </tr>\n",
       "    <tr>\n",
       "      <th>3</th>\n",
       "      <td>X3</td>\n",
       "      <td>7</td>\n",
       "    </tr>\n",
       "    <tr>\n",
       "      <th>4</th>\n",
       "      <td>X4</td>\n",
       "      <td>4</td>\n",
       "    </tr>\n",
       "    <tr>\n",
       "      <th>5</th>\n",
       "      <td>X5</td>\n",
       "      <td>29</td>\n",
       "    </tr>\n",
       "    <tr>\n",
       "      <th>6</th>\n",
       "      <td>X6</td>\n",
       "      <td>12</td>\n",
       "    </tr>\n",
       "    <tr>\n",
       "      <th>7</th>\n",
       "      <td>X8</td>\n",
       "      <td>25</td>\n",
       "    </tr>\n",
       "  </tbody>\n",
       "</table>\n",
       "</div>"
      ],
      "text/plain": [
       "  Features  # of unique values\n",
       "0       X0                  47\n",
       "1       X1                  27\n",
       "2       X2                  44\n",
       "3       X3                   7\n",
       "4       X4                   4\n",
       "5       X5                  29\n",
       "6       X6                  12\n",
       "7       X8                  25"
      ]
     },
     "execution_count": 111,
     "metadata": {},
     "output_type": "execute_result"
    }
   ],
   "source": [
    "#Analysis of categorical data\n",
    "string_cols = train.describe(include='object').T.index\n",
    "pd.DataFrame({'Features' : string_cols,\n",
    "             '# of unique values':[train[x].nunique() for x in string_cols]})"
   ]
  },
  {
   "cell_type": "markdown",
   "id": "fc4098a5",
   "metadata": {},
   "source": [
    "#### From above we can see the categories seems to be odrinal but it doesn't seem that all categories are included.\n",
    "\n",
    "#### These need to be in numbers for machine to understand the data.\n",
    "\n",
    "#### Making dummies will create too many variables.\n",
    "\n",
    "#### Thereby we'll apply label encoder to all these 8 features during feature engineering."
   ]
  },
  {
   "cell_type": "markdown",
   "id": "e7ed0e64",
   "metadata": {},
   "source": [
    "#### Target Variable Analysis"
   ]
  },
  {
   "cell_type": "code",
   "execution_count": 112,
   "id": "354a264a",
   "metadata": {},
   "outputs": [
    {
     "data": {
      "text/html": [
       "<div>\n",
       "<style scoped>\n",
       "    .dataframe tbody tr th:only-of-type {\n",
       "        vertical-align: middle;\n",
       "    }\n",
       "\n",
       "    .dataframe tbody tr th {\n",
       "        vertical-align: top;\n",
       "    }\n",
       "\n",
       "    .dataframe thead th {\n",
       "        text-align: right;\n",
       "    }\n",
       "</style>\n",
       "<table border=\"1\" class=\"dataframe\">\n",
       "  <thead>\n",
       "    <tr style=\"text-align: right;\">\n",
       "      <th></th>\n",
       "      <th>y</th>\n",
       "    </tr>\n",
       "  </thead>\n",
       "  <tbody>\n",
       "    <tr>\n",
       "      <th>count</th>\n",
       "      <td>4209.000000</td>\n",
       "    </tr>\n",
       "    <tr>\n",
       "      <th>mean</th>\n",
       "      <td>100.669318</td>\n",
       "    </tr>\n",
       "    <tr>\n",
       "      <th>std</th>\n",
       "      <td>12.679381</td>\n",
       "    </tr>\n",
       "    <tr>\n",
       "      <th>min</th>\n",
       "      <td>72.110000</td>\n",
       "    </tr>\n",
       "    <tr>\n",
       "      <th>25%</th>\n",
       "      <td>90.820000</td>\n",
       "    </tr>\n",
       "    <tr>\n",
       "      <th>50%</th>\n",
       "      <td>99.150000</td>\n",
       "    </tr>\n",
       "    <tr>\n",
       "      <th>75%</th>\n",
       "      <td>109.010000</td>\n",
       "    </tr>\n",
       "    <tr>\n",
       "      <th>max</th>\n",
       "      <td>265.320000</td>\n",
       "    </tr>\n",
       "  </tbody>\n",
       "</table>\n",
       "</div>"
      ],
      "text/plain": [
       "                 y\n",
       "count  4209.000000\n",
       "mean    100.669318\n",
       "std      12.679381\n",
       "min      72.110000\n",
       "25%      90.820000\n",
       "50%      99.150000\n",
       "75%     109.010000\n",
       "max     265.320000"
      ]
     },
     "execution_count": 112,
     "metadata": {},
     "output_type": "execute_result"
    }
   ],
   "source": [
    "#summarising the float variables.\n",
    "train.describe(include='float')"
   ]
  },
  {
   "cell_type": "markdown",
   "id": "1754c944",
   "metadata": {},
   "source": [
    "#### This is the target variable .\n",
    "#### The mean and median are almost same but there is some skewness."
   ]
  },
  {
   "cell_type": "code",
   "execution_count": 113,
   "id": "8b30acb7",
   "metadata": {},
   "outputs": [
    {
     "data": {
      "image/png": "[encoded data removed]",
      "text/plain": [
       "<Figure size 720x432 with 1 Axes>"
      ]
     },
     "metadata": {},
     "output_type": "display_data"
    }
   ],
   "source": [
    "plt.figure(figsize=(10,6))\n",
    "sns.distplot(train['y'],kde=True, bins=100)\n",
    "plt.title('Distribution of Target Variable', fontsize = 15)\n",
    "plt.show()"
   ]
  },
  {
   "cell_type": "markdown",
   "id": "e4c4c5e0",
   "metadata": {},
   "source": [
    "#### The distribution is skewed and there are some extreme values.\n",
    "#### There seems to be two different groups."
   ]
  },
  {
   "cell_type": "code",
   "execution_count": 114,
   "id": "d4ac5470",
   "metadata": {},
   "outputs": [
    {
     "data": {
      "image/png": "[encoded data removed]",
      "text/plain": [
       "<Figure size 720x432 with 1 Axes>"
      ]
     },
     "metadata": {},
     "output_type": "display_data"
    }
   ],
   "source": [
    "plt.figure(figsize=(10,6))\n",
    "sns.boxplot(x='y',data=train)\n",
    "plt.title('Boxplot of target variable',fontsize=15)\n",
    "plt.show()"
   ]
  },
  {
   "cell_type": "markdown",
   "id": "79eac1fb",
   "metadata": {},
   "source": [
    "### The outliers are all to the right."
   ]
  },
  {
   "cell_type": "code",
   "execution_count": 115,
   "id": "2f50f5f9",
   "metadata": {},
   "outputs": [
    {
     "data": {
      "text/plain": [
       "50"
      ]
     },
     "execution_count": 115,
     "metadata": {},
     "output_type": "execute_result"
    }
   ],
   "source": [
    "#finding outliers #lets see how many outliers are there\n",
    "out_vals = []\n",
    "q3 = np.quantile(train.y, 0.75)\n",
    "q1 = np.quantile(train.y,0.25)\n",
    "iqr = q3 - q1\n",
    "upper_fence = (q3 + 1.5 * iqr)\n",
    "for i in train.y:\n",
    "    if i > upper_fence :\n",
    "        out_vals.append(i)\n",
    "len(out_vals)"
   ]
  },
  {
   "cell_type": "code",
   "execution_count": 116,
   "id": "a31724d3",
   "metadata": {},
   "outputs": [
    {
     "data": {
      "text/plain": [
       "1.1879306248515087"
      ]
     },
     "execution_count": 116,
     "metadata": {},
     "output_type": "execute_result"
    }
   ],
   "source": [
    "len(out_vals)/len(train)*100"
   ]
  },
  {
   "cell_type": "code",
   "execution_count": 117,
   "id": "fe7f2838",
   "metadata": {},
   "outputs": [
    {
     "data": {
      "text/plain": [
       "count    4159.000000\n",
       "mean      100.096163\n",
       "std        11.436140\n",
       "min        72.110000\n",
       "25%        90.780000\n",
       "50%        98.970000\n",
       "75%       108.820000\n",
       "max       135.530000\n",
       "Name: y, dtype: float64"
      ]
     },
     "execution_count": 117,
     "metadata": {},
     "output_type": "execute_result"
    }
   ],
   "source": [
    "train[train.y <= upper_fence]['y'].describe()"
   ]
  },
  {
   "cell_type": "code",
   "execution_count": 118,
   "id": "493e5f6c",
   "metadata": {},
   "outputs": [
    {
     "data": {
      "text/plain": [
       "count     50.000000\n",
       "mean     148.344400\n",
       "std       19.000052\n",
       "min      136.410000\n",
       "25%      139.170000\n",
       "50%      142.710000\n",
       "75%      151.962500\n",
       "max      265.320000\n",
       "dtype: float64"
      ]
     },
     "execution_count": 118,
     "metadata": {},
     "output_type": "execute_result"
    }
   ],
   "source": [
    "pd.Series(out_vals).describe()"
   ]
  },
  {
   "cell_type": "markdown",
   "id": "2e398559",
   "metadata": {},
   "source": [
    "### These 50 values vary more as compared to all values.\n",
    "\n",
    "### There could be some errors.\n",
    "\n",
    "### As the values goes from 136 to 265 as compared to (approx) 99% values where range is 72 to 135.\n",
    "\n",
    "### The total number of outliers are just 1.18% compared to total data.\n",
    "\n",
    "### We can drop them from our analysis."
   ]
  },
  {
   "cell_type": "code",
   "execution_count": 119,
   "id": "fbf24d83",
   "metadata": {},
   "outputs": [
    {
     "data": {
      "text/plain": [
       "(4159, 377)"
      ]
     },
     "execution_count": 119,
     "metadata": {},
     "output_type": "execute_result"
    }
   ],
   "source": [
    "train = train[train['y']<=upper_fence]\n",
    "train.shape"
   ]
  },
  {
   "cell_type": "markdown",
   "id": "a923813d",
   "metadata": {},
   "source": [
    "#### Feature Analysis"
   ]
  },
  {
   "cell_type": "code",
   "execution_count": 120,
   "id": "d20241f6",
   "metadata": {},
   "outputs": [
    {
     "name": "stdout",
     "output_type": "stream",
     "text": [
      "No of independent variables having only one value : 13\n",
      "No of independent variables having binary values: 355\n",
      "No of independent variables having categorical values more than 2: 8\n"
     ]
    }
   ],
   "source": [
    "#independent variables\n",
    "multi_value_data = []\n",
    "binary_data = []\n",
    "single_value_data = []\n",
    "for i in train.drop('y', axis=1):\n",
    "    if train[i].nunique() == 1:\n",
    "        single_value_data.append(i)\n",
    "    elif train[i].nunique() ==2:\n",
    "        binary_data.append(i)\n",
    "    else:\n",
    "        multi_value_data.append(i)\n",
    "print('No of independent variables having only one value :',len(single_value_data))\n",
    "print('No of independent variables having binary values:',len(binary_data))\n",
    "print('No of independent variables having categorical values more than 2:',len(multi_value_data))"
   ]
  },
  {
   "cell_type": "code",
   "execution_count": 121,
   "id": "fa70569e",
   "metadata": {},
   "outputs": [
    {
     "name": "stdout",
     "output_type": "stream",
     "text": [
      "[0]\n",
      "[0]\n",
      "[0]\n",
      "[0]\n",
      "[0]\n",
      "[0]\n",
      "[0]\n",
      "[0]\n",
      "[0]\n",
      "[0]\n",
      "[0]\n",
      "[0]\n",
      "[0]\n"
     ]
    }
   ],
   "source": [
    "for i in single_value_data:\n",
    "    print(train[i].unique())"
   ]
  },
  {
   "cell_type": "markdown",
   "id": "1af705ba",
   "metadata": {},
   "source": [
    "### There is only one value.\n",
    "### These features doesn't have any variation.\n",
    "### Analysing or using it would be meaningless.\n",
    "### We'll drop these features."
   ]
  },
  {
   "cell_type": "code",
   "execution_count": 122,
   "id": "d7b71f58",
   "metadata": {},
   "outputs": [
    {
     "data": {
      "text/plain": [
       "(4159, 364)"
      ]
     },
     "execution_count": 122,
     "metadata": {},
     "output_type": "execute_result"
    }
   ],
   "source": [
    "train.drop(single_value_data, axis=1, inplace=True)\n",
    "train.shape"
   ]
  },
  {
   "cell_type": "code",
   "execution_count": 123,
   "id": "8d926584",
   "metadata": {},
   "outputs": [
    {
     "name": "stdout",
     "output_type": "stream",
     "text": [
      "ForX0\n",
      "z     359\n",
      "ak    342\n",
      "y     323\n",
      "ay    311\n",
      "t     305\n",
      "x     286\n",
      "o     269\n",
      "f     226\n",
      "n     195\n",
      "j     178\n",
      "w     175\n",
      "az    175\n",
      "aj    149\n",
      "s     105\n",
      "ap     99\n",
      "h      75\n",
      "d      73\n",
      "al     67\n",
      "v      35\n",
      "af     35\n",
      "m      34\n",
      "ai     33\n",
      "e      32\n",
      "ba     27\n",
      "at     24\n",
      "a      20\n",
      "ax     19\n",
      "aq     18\n",
      "am     18\n",
      "i      18\n",
      "u      17\n",
      "aw     16\n",
      "l      16\n",
      "ad     14\n",
      "k      11\n",
      "b      11\n",
      "r      10\n",
      "as     10\n",
      "au     10\n",
      "bc      6\n",
      "ao      4\n",
      "c       3\n",
      "q       2\n",
      "aa      1\n",
      "ac      1\n",
      "g       1\n",
      "ab      1\n",
      "Name: X0, dtype: int64\n",
      "ForX1\n",
      "aa    826\n",
      "s     590\n",
      "b     584\n",
      "l     581\n",
      "v     403\n",
      "r     249\n",
      "i     198\n",
      "a     143\n",
      "c     119\n",
      "o      81\n",
      "w      52\n",
      "z      46\n",
      "u      37\n",
      "e      33\n",
      "m      32\n",
      "t      31\n",
      "h      29\n",
      "y      23\n",
      "j      22\n",
      "f      21\n",
      "n      18\n",
      "k      17\n",
      "p       9\n",
      "g       6\n",
      "d       3\n",
      "q       3\n",
      "ab      3\n",
      "Name: X1, dtype: int64\n",
      "ForX2\n",
      "as    1637\n",
      "ae     490\n",
      "ai     414\n",
      "m      362\n",
      "ak     262\n",
      "r      150\n",
      "n      136\n",
      "s       90\n",
      "f       87\n",
      "e       80\n",
      "aq      63\n",
      "ay      54\n",
      "a       47\n",
      "t       29\n",
      "k       24\n",
      "i       24\n",
      "b       21\n",
      "ao      20\n",
      "ag      19\n",
      "z       19\n",
      "d       18\n",
      "ac      13\n",
      "g       12\n",
      "ap      11\n",
      "y       11\n",
      "x       10\n",
      "aw       8\n",
      "at       6\n",
      "al       5\n",
      "an       5\n",
      "h        5\n",
      "q        5\n",
      "av       4\n",
      "ah       4\n",
      "p        4\n",
      "au       3\n",
      "am       1\n",
      "j        1\n",
      "af       1\n",
      "l        1\n",
      "c        1\n",
      "o        1\n",
      "ar       1\n",
      "Name: X2, dtype: int64\n",
      "ForX3\n",
      "c    1906\n",
      "f    1069\n",
      "a     435\n",
      "d     289\n",
      "g     241\n",
      "e     162\n",
      "b      57\n",
      "Name: X3, dtype: int64\n",
      "ForX4\n",
      "d    4155\n",
      "a       2\n",
      "b       1\n",
      "c       1\n",
      "Name: X4, dtype: int64\n",
      "ForX5\n",
      "w     230\n",
      "v     229\n",
      "q     215\n",
      "r     214\n",
      "s     213\n",
      "d     212\n",
      "n     206\n",
      "m     206\n",
      "ae    204\n",
      "p     204\n",
      "i     203\n",
      "ac    197\n",
      "ag    196\n",
      "l     195\n",
      "ab    193\n",
      "af    187\n",
      "ad    185\n",
      "k     175\n",
      "c     130\n",
      "j     124\n",
      "aa    111\n",
      "ah     97\n",
      "o      20\n",
      "f       7\n",
      "x       2\n",
      "y       1\n",
      "g       1\n",
      "h       1\n",
      "u       1\n",
      "Name: X5, dtype: int64\n",
      "ForX6\n",
      "g    1030\n",
      "j    1022\n",
      "d     621\n",
      "i     483\n",
      "l     473\n",
      "a     205\n",
      "h     188\n",
      "k      42\n",
      "c      36\n",
      "b      27\n",
      "f      20\n",
      "e      12\n",
      "Name: X6, dtype: int64\n",
      "ForX8\n",
      "j    272\n",
      "s    253\n",
      "n    241\n",
      "f    241\n",
      "i    236\n",
      "e    223\n",
      "r    214\n",
      "a    208\n",
      "v    193\n",
      "w    192\n",
      "b    190\n",
      "k    174\n",
      "o    162\n",
      "m    153\n",
      "g    129\n",
      "u    119\n",
      "t    118\n",
      "q    114\n",
      "h    114\n",
      "y    113\n",
      "x    103\n",
      "d    101\n",
      "l     99\n",
      "c     99\n",
      "p     98\n",
      "Name: X8, dtype: int64\n"
     ]
    }
   ],
   "source": [
    "#categorical data\n",
    "for i in multi_value_data:\n",
    "    print(f'For{i}')\n",
    "    print(train[i].value_counts())"
   ]
  },
  {
   "cell_type": "markdown",
   "id": "d67c7cf5",
   "metadata": {},
   "source": [
    "#### Manually going through all values, some of the values have appeared only once.\n",
    "\n",
    "#### For disturbing analyis, we will consider only those values which have appeared more than 30 times.\n"
   ]
  },
  {
   "cell_type": "code",
   "execution_count": 124,
   "id": "cd29c712",
   "metadata": {},
   "outputs": [
    {
     "name": "stdout",
     "output_type": "stream",
     "text": [
      "dict_items([('X0', ['k', 'am', 'q', 'at', 'a', 'aq', 'c', 'aa', 'ba', 'as', 'i', 'r', 'b', 'ax', 'bc', 'u', 'ad', 'au', 'l', 'aw', 'ao', 'ac', 'g', 'ab']), ('X1', ['h', 'j', 'p', 'n', 'y', 'd', 'f', 'k', 'g', 'q', 'ab']), ('X2', ['at', 'av', 'k', 'd', 'ag', 'ac', 'ap', 'g', 'i', 'aw', 'y', 'b', 'ao', 'al', 'x', 'au', 't', 'an', 'z', 'ah', 'p', 'am', 'h', 'j', 'q', 'af', 'l', 'c', 'o', 'ar']), ('X3', []), ('X4', ['b', 'c', 'a']), ('X5', ['u', 'y', 'x', 'h', 'g', 'f', 'o']), ('X6', ['e', 'f', 'b']), ('X8', [])])\n"
     ]
    }
   ],
   "source": [
    "var_to_exclude = {}\n",
    "for i in multi_value_data:\n",
    "    uniq_values = train[i].unique()\n",
    "    var = []\n",
    "    for value in uniq_values:\n",
    "        if len(train[train[i]==value])<30:\n",
    "            var.append(value)\n",
    "    var_to_exclude[i] = var\n",
    "print(var_to_exclude.items())"
   ]
  },
  {
   "cell_type": "code",
   "execution_count": 125,
   "id": "d5245a6f",
   "metadata": {},
   "outputs": [
    {
     "data": {
      "image/png": "[encoded data removed]",
      "text/plain": [
       "<Figure size 1440x1080 with 8 Axes>"
      ]
     },
     "metadata": {},
     "output_type": "display_data"
    }
   ],
   "source": [
    "#plotting the distributions of time across categorical values.\n",
    "fig, ax = plt.subplots(len(multi_value_data),figsize=(20,15))\n",
    "\n",
    "for i, col in enumerate(multi_value_data):\n",
    "    col_df = train[~train[col].isin(var_to_exclude[col])]\n",
    "    sns.boxplot(x=col, y='y', data=col_df, ax=ax[i])\n",
    "    plt.xlabel(col)\n",
    "plt.tight_layout()"
   ]
  },
  {
   "cell_type": "markdown",
   "id": "927e4679",
   "metadata": {},
   "source": [
    "#### Only X0,X1,X2,X3 & X8 show significant variation in mean time and the mean time is also low.\n",
    "\n",
    "#### These could be useful feature in reducing the time."
   ]
  },
  {
   "cell_type": "code",
   "execution_count": 126,
   "id": "64e1aa29",
   "metadata": {},
   "outputs": [
    {
     "data": {
      "text/html": [
       "<div>\n",
       "<style scoped>\n",
       "    .dataframe tbody tr th:only-of-type {\n",
       "        vertical-align: middle;\n",
       "    }\n",
       "\n",
       "    .dataframe tbody tr th {\n",
       "        vertical-align: top;\n",
       "    }\n",
       "\n",
       "    .dataframe thead th {\n",
       "        text-align: right;\n",
       "    }\n",
       "</style>\n",
       "<table border=\"1\" class=\"dataframe\">\n",
       "  <thead>\n",
       "    <tr style=\"text-align: right;\">\n",
       "      <th></th>\n",
       "      <th>X10</th>\n",
       "      <th>X12</th>\n",
       "      <th>X13</th>\n",
       "      <th>X14</th>\n",
       "      <th>X15</th>\n",
       "      <th>X16</th>\n",
       "      <th>X17</th>\n",
       "      <th>X18</th>\n",
       "      <th>X19</th>\n",
       "      <th>X20</th>\n",
       "      <th>...</th>\n",
       "      <th>X375</th>\n",
       "      <th>X376</th>\n",
       "      <th>X377</th>\n",
       "      <th>X378</th>\n",
       "      <th>X379</th>\n",
       "      <th>X380</th>\n",
       "      <th>X382</th>\n",
       "      <th>X383</th>\n",
       "      <th>X384</th>\n",
       "      <th>X385</th>\n",
       "    </tr>\n",
       "  </thead>\n",
       "  <tbody>\n",
       "    <tr>\n",
       "      <th>X10</th>\n",
       "      <td>1.000000</td>\n",
       "      <td>-0.033155</td>\n",
       "      <td>-0.028975</td>\n",
       "      <td>-0.101005</td>\n",
       "      <td>-0.002563</td>\n",
       "      <td>-0.006016</td>\n",
       "      <td>-0.010287</td>\n",
       "      <td>-0.010287</td>\n",
       "      <td>-0.039051</td>\n",
       "      <td>-0.047735</td>\n",
       "      <td>...</td>\n",
       "      <td>0.166474</td>\n",
       "      <td>-0.028719</td>\n",
       "      <td>-0.074593</td>\n",
       "      <td>-0.017077</td>\n",
       "      <td>-0.011367</td>\n",
       "      <td>-0.010606</td>\n",
       "      <td>-0.010287</td>\n",
       "      <td>-0.004053</td>\n",
       "      <td>-0.002563</td>\n",
       "      <td>-0.004441</td>\n",
       "    </tr>\n",
       "    <tr>\n",
       "      <th>X12</th>\n",
       "      <td>-0.033155</td>\n",
       "      <td>1.000000</td>\n",
       "      <td>0.215648</td>\n",
       "      <td>-0.245361</td>\n",
       "      <td>-0.006225</td>\n",
       "      <td>-0.014614</td>\n",
       "      <td>-0.024990</td>\n",
       "      <td>-0.024990</td>\n",
       "      <td>-0.094864</td>\n",
       "      <td>-0.115957</td>\n",
       "      <td>...</td>\n",
       "      <td>-0.111403</td>\n",
       "      <td>-0.069763</td>\n",
       "      <td>0.030725</td>\n",
       "      <td>-0.015895</td>\n",
       "      <td>-0.027612</td>\n",
       "      <td>-0.005432</td>\n",
       "      <td>-0.024990</td>\n",
       "      <td>-0.009846</td>\n",
       "      <td>-0.006225</td>\n",
       "      <td>-0.010787</td>\n",
       "    </tr>\n",
       "    <tr>\n",
       "      <th>X13</th>\n",
       "      <td>-0.028975</td>\n",
       "      <td>0.215648</td>\n",
       "      <td>1.000000</td>\n",
       "      <td>-0.085463</td>\n",
       "      <td>-0.005440</td>\n",
       "      <td>-0.012772</td>\n",
       "      <td>-0.021839</td>\n",
       "      <td>-0.010061</td>\n",
       "      <td>-0.082903</td>\n",
       "      <td>-0.042554</td>\n",
       "      <td>...</td>\n",
       "      <td>-0.169490</td>\n",
       "      <td>-0.060967</td>\n",
       "      <td>0.357497</td>\n",
       "      <td>-0.036252</td>\n",
       "      <td>-0.024130</td>\n",
       "      <td>0.023198</td>\n",
       "      <td>-0.021839</td>\n",
       "      <td>-0.008605</td>\n",
       "      <td>0.041500</td>\n",
       "      <td>-0.009427</td>\n",
       "    </tr>\n",
       "    <tr>\n",
       "      <th>X14</th>\n",
       "      <td>-0.101005</td>\n",
       "      <td>-0.245361</td>\n",
       "      <td>-0.085463</td>\n",
       "      <td>1.000000</td>\n",
       "      <td>-0.018964</td>\n",
       "      <td>-0.044522</td>\n",
       "      <td>0.012860</td>\n",
       "      <td>-0.076130</td>\n",
       "      <td>-0.288997</td>\n",
       "      <td>-0.353256</td>\n",
       "      <td>...</td>\n",
       "      <td>0.117537</td>\n",
       "      <td>0.026465</td>\n",
       "      <td>-0.098476</td>\n",
       "      <td>-0.038081</td>\n",
       "      <td>0.102449</td>\n",
       "      <td>0.007861</td>\n",
       "      <td>0.012860</td>\n",
       "      <td>0.026104</td>\n",
       "      <td>0.025370</td>\n",
       "      <td>0.043964</td>\n",
       "    </tr>\n",
       "    <tr>\n",
       "      <th>X15</th>\n",
       "      <td>-0.002563</td>\n",
       "      <td>-0.006225</td>\n",
       "      <td>-0.005440</td>\n",
       "      <td>-0.018964</td>\n",
       "      <td>1.000000</td>\n",
       "      <td>-0.001130</td>\n",
       "      <td>-0.001931</td>\n",
       "      <td>-0.001931</td>\n",
       "      <td>-0.007332</td>\n",
       "      <td>-0.008962</td>\n",
       "      <td>...</td>\n",
       "      <td>-0.014990</td>\n",
       "      <td>-0.005392</td>\n",
       "      <td>0.032401</td>\n",
       "      <td>-0.003206</td>\n",
       "      <td>-0.002134</td>\n",
       "      <td>-0.001991</td>\n",
       "      <td>-0.001931</td>\n",
       "      <td>-0.000761</td>\n",
       "      <td>-0.000481</td>\n",
       "      <td>-0.000834</td>\n",
       "    </tr>\n",
       "  </tbody>\n",
       "</table>\n",
       "<p>5 rows × 355 columns</p>\n",
       "</div>"
      ],
      "text/plain": [
       "          X10       X12       X13       X14       X15       X16       X17  \\\n",
       "X10  1.000000 -0.033155 -0.028975 -0.101005 -0.002563 -0.006016 -0.010287   \n",
       "X12 -0.033155  1.000000  0.215648 -0.245361 -0.006225 -0.014614 -0.024990   \n",
       "X13 -0.028975  0.215648  1.000000 -0.085463 -0.005440 -0.012772 -0.021839   \n",
       "X14 -0.101005 -0.245361 -0.085463  1.000000 -0.018964 -0.044522  0.012860   \n",
       "X15 -0.002563 -0.006225 -0.005440 -0.018964  1.000000 -0.001130 -0.001931   \n",
       "\n",
       "          X18       X19       X20  ...      X375      X376      X377  \\\n",
       "X10 -0.010287 -0.039051 -0.047735  ...  0.166474 -0.028719 -0.074593   \n",
       "X12 -0.024990 -0.094864 -0.115957  ... -0.111403 -0.069763  0.030725   \n",
       "X13 -0.010061 -0.082903 -0.042554  ... -0.169490 -0.060967  0.357497   \n",
       "X14 -0.076130 -0.288997 -0.353256  ...  0.117537  0.026465 -0.098476   \n",
       "X15 -0.001931 -0.007332 -0.008962  ... -0.014990 -0.005392  0.032401   \n",
       "\n",
       "         X378      X379      X380      X382      X383      X384      X385  \n",
       "X10 -0.017077 -0.011367 -0.010606 -0.010287 -0.004053 -0.002563 -0.004441  \n",
       "X12 -0.015895 -0.027612 -0.005432 -0.024990 -0.009846 -0.006225 -0.010787  \n",
       "X13 -0.036252 -0.024130  0.023198 -0.021839 -0.008605  0.041500 -0.009427  \n",
       "X14 -0.038081  0.102449  0.007861  0.012860  0.026104  0.025370  0.043964  \n",
       "X15 -0.003206 -0.002134 -0.001991 -0.001931 -0.000761 -0.000481 -0.000834  \n",
       "\n",
       "[5 rows x 355 columns]"
      ]
     },
     "execution_count": 126,
     "metadata": {},
     "output_type": "execute_result"
    }
   ],
   "source": [
    "#Binary data\n",
    "corr_matrix = train[binary_data].corr()\n",
    "corr_matrix.head()"
   ]
  },
  {
   "cell_type": "markdown",
   "id": "36a1d45d",
   "metadata": {},
   "source": [
    "#### From above, it's hard to analyse correlated features. Let's extract correlated features."
   ]
  },
  {
   "cell_type": "code",
   "execution_count": 127,
   "id": "eda8220f",
   "metadata": {},
   "outputs": [],
   "source": [
    "#Selecting the upper traingular matrix\n",
    "\n",
    "upper_tri = corr_matrix.where(np.triu(np.ones(corr_matrix.shape),k=1).astype(np.bool))"
   ]
  },
  {
   "cell_type": "code",
   "execution_count": 128,
   "id": "c52898c5",
   "metadata": {},
   "outputs": [],
   "source": [
    "#finding perfectly correlated values.\n",
    "perfect_corr = {}\n",
    "for i in upper_tri:\n",
    "    perfect_corr[i] = []\n",
    "    for pos,val in enumerate(upper_tri[i].values):\n",
    "        if val == 1 or val == -1:\n",
    "            correlated_column = corr_matrix.columns[pos]\n",
    "            perfect_corr[i].append(correlated_column)"
   ]
  },
  {
   "cell_type": "markdown",
   "id": "29ad85c3",
   "metadata": {},
   "source": [
    "#### Let's examine the perfect correlated variables"
   ]
  },
  {
   "cell_type": "code",
   "execution_count": 129,
   "id": "52270436",
   "metadata": {},
   "outputs": [
    {
     "data": {
      "text/plain": [
       "{'X35': ['X31'],\n",
       " 'X37': ['X31', 'X35'],\n",
       " 'X39': ['X33'],\n",
       " 'X76': ['X54'],\n",
       " 'X84': ['X71'],\n",
       " 'X94': ['X90'],\n",
       " 'X102': ['X53'],\n",
       " 'X113': ['X48'],\n",
       " 'X119': ['X118'],\n",
       " 'X122': ['X88'],\n",
       " 'X134': ['X48', 'X113'],\n",
       " 'X146': ['X138'],\n",
       " 'X147': ['X48', 'X113', 'X134'],\n",
       " 'X172': ['X62'],\n",
       " 'X194': ['X186'],\n",
       " 'X199': ['X112'],\n",
       " 'X213': ['X67'],\n",
       " 'X214': ['X53', 'X102'],\n",
       " 'X216': ['X62', 'X172'],\n",
       " 'X222': ['X48', 'X113', 'X134', 'X147'],\n",
       " 'X226': ['X152'],\n",
       " 'X227': ['X125'],\n",
       " 'X232': ['X29'],\n",
       " 'X239': ['X53', 'X102', 'X214'],\n",
       " 'X242': ['X90', 'X94'],\n",
       " 'X243': ['X88', 'X122'],\n",
       " 'X244': ['X71', 'X84'],\n",
       " 'X245': ['X89'],\n",
       " 'X247': ['X202'],\n",
       " 'X248': ['X60'],\n",
       " 'X253': ['X60', 'X248'],\n",
       " 'X254': ['X230'],\n",
       " 'X262': ['X184'],\n",
       " 'X263': ['X29', 'X232'],\n",
       " 'X266': ['X184', 'X262'],\n",
       " 'X279': ['X29', 'X232', 'X263'],\n",
       " 'X296': ['X295'],\n",
       " 'X299': ['X298'],\n",
       " 'X302': ['X44'],\n",
       " 'X320': ['X88', 'X122', 'X243'],\n",
       " 'X324': ['X58'],\n",
       " 'X326': ['X152', 'X226'],\n",
       " 'X360': ['X155'],\n",
       " 'X364': ['X240'],\n",
       " 'X365': ['X240', 'X364'],\n",
       " 'X382': ['X17'],\n",
       " 'X385': ['X60', 'X248', 'X253']}"
      ]
     },
     "execution_count": 129,
     "metadata": {},
     "output_type": "execute_result"
    }
   ],
   "source": [
    "#Remove the empty values.\n",
    "perfect_corr = {k:v for k,v in perfect_corr.items() if v}\n",
    "perfect_corr"
   ]
  },
  {
   "cell_type": "markdown",
   "id": "42935c4c",
   "metadata": {},
   "source": [
    "### These variables have correlation of 1 or -1, meaning one explaining the other totally.\n",
    "\n",
    "### To avoid the problem of multi-collinearity we can keep one of correlated columns and drop the others from dataset."
   ]
  },
  {
   "cell_type": "code",
   "execution_count": 130,
   "id": "0042b4b1",
   "metadata": {},
   "outputs": [
    {
     "name": "stdout",
     "output_type": "stream",
     "text": [
      "{'X118', 'X202', 'X214', 'X186', 'X54', 'X89', 'X147', 'X33', 'X243', 'X102', 'X248', 'X122', 'X138', 'X263', 'X232', 'X113', 'X60', 'X298', 'X67', 'X90', 'X17', 'X53', 'X62', 'X58', 'X364', 'X48', 'X262', 'X84', 'X31', 'X29', 'X94', 'X134', 'X152', 'X44', 'X184', 'X230', 'X226', 'X35', 'X253', 'X172', 'X112', 'X240', 'X125', 'X155', 'X71', 'X295', 'X88'}\n"
     ]
    }
   ],
   "source": [
    "cols_to_drop = []\n",
    "for col in perfect_corr.keys():\n",
    "    for val in perfect_corr[col]:\n",
    "        cols_to_drop.append(val)\n",
    "cols_to_drop = set(cols_to_drop)\n",
    "print(cols_to_drop)"
   ]
  },
  {
   "cell_type": "code",
   "execution_count": 131,
   "id": "b676a2e9",
   "metadata": {},
   "outputs": [
    {
     "data": {
      "text/plain": [
       "(4159, 317)"
      ]
     },
     "execution_count": 131,
     "metadata": {},
     "output_type": "execute_result"
    }
   ],
   "source": [
    "train.drop(cols_to_drop, axis=1, inplace=True)\n",
    "train.shape"
   ]
  },
  {
   "cell_type": "markdown",
   "id": "4e6db388",
   "metadata": {},
   "source": [
    "### Let's examine strong correlations\n",
    "\n",
    "### Let's again calculate the correlation matrix to determine strong correlations."
   ]
  },
  {
   "cell_type": "code",
   "execution_count": 132,
   "id": "720ae610",
   "metadata": {},
   "outputs": [
    {
     "data": {
      "text/plain": [
       "308"
      ]
     },
     "execution_count": 132,
     "metadata": {},
     "output_type": "execute_result"
    }
   ],
   "source": [
    "binary_data = [x for x in binary_data if x not in cols_to_drop]\n",
    "len(binary_data)"
   ]
  },
  {
   "cell_type": "code",
   "execution_count": 133,
   "id": "c692f603",
   "metadata": {},
   "outputs": [
    {
     "data": {
      "text/html": [
       "<div>\n",
       "<style scoped>\n",
       "    .dataframe tbody tr th:only-of-type {\n",
       "        vertical-align: middle;\n",
       "    }\n",
       "\n",
       "    .dataframe tbody tr th {\n",
       "        vertical-align: top;\n",
       "    }\n",
       "\n",
       "    .dataframe thead th {\n",
       "        text-align: right;\n",
       "    }\n",
       "</style>\n",
       "<table border=\"1\" class=\"dataframe\">\n",
       "  <thead>\n",
       "    <tr style=\"text-align: right;\">\n",
       "      <th></th>\n",
       "      <th>X10</th>\n",
       "      <th>X12</th>\n",
       "      <th>X13</th>\n",
       "      <th>X14</th>\n",
       "      <th>X15</th>\n",
       "      <th>X16</th>\n",
       "      <th>X18</th>\n",
       "      <th>X19</th>\n",
       "      <th>X20</th>\n",
       "      <th>X21</th>\n",
       "      <th>...</th>\n",
       "      <th>X375</th>\n",
       "      <th>X376</th>\n",
       "      <th>X377</th>\n",
       "      <th>X378</th>\n",
       "      <th>X379</th>\n",
       "      <th>X380</th>\n",
       "      <th>X382</th>\n",
       "      <th>X383</th>\n",
       "      <th>X384</th>\n",
       "      <th>X385</th>\n",
       "    </tr>\n",
       "  </thead>\n",
       "  <tbody>\n",
       "    <tr>\n",
       "      <th>X10</th>\n",
       "      <td>NaN</td>\n",
       "      <td>-0.033155</td>\n",
       "      <td>-0.028975</td>\n",
       "      <td>-0.101005</td>\n",
       "      <td>-0.002563</td>\n",
       "      <td>-0.006016</td>\n",
       "      <td>-0.010287</td>\n",
       "      <td>-0.039051</td>\n",
       "      <td>-0.047735</td>\n",
       "      <td>-0.006016</td>\n",
       "      <td>...</td>\n",
       "      <td>0.166474</td>\n",
       "      <td>-0.028719</td>\n",
       "      <td>-0.074593</td>\n",
       "      <td>-0.017077</td>\n",
       "      <td>-0.011367</td>\n",
       "      <td>-0.010606</td>\n",
       "      <td>-0.010287</td>\n",
       "      <td>-0.004053</td>\n",
       "      <td>-0.002563</td>\n",
       "      <td>-0.004441</td>\n",
       "    </tr>\n",
       "    <tr>\n",
       "      <th>X12</th>\n",
       "      <td>NaN</td>\n",
       "      <td>NaN</td>\n",
       "      <td>0.215648</td>\n",
       "      <td>-0.245361</td>\n",
       "      <td>-0.006225</td>\n",
       "      <td>-0.014614</td>\n",
       "      <td>-0.024990</td>\n",
       "      <td>-0.094864</td>\n",
       "      <td>-0.115957</td>\n",
       "      <td>-0.014614</td>\n",
       "      <td>...</td>\n",
       "      <td>-0.111403</td>\n",
       "      <td>-0.069763</td>\n",
       "      <td>0.030725</td>\n",
       "      <td>-0.015895</td>\n",
       "      <td>-0.027612</td>\n",
       "      <td>-0.005432</td>\n",
       "      <td>-0.024990</td>\n",
       "      <td>-0.009846</td>\n",
       "      <td>-0.006225</td>\n",
       "      <td>-0.010787</td>\n",
       "    </tr>\n",
       "    <tr>\n",
       "      <th>X13</th>\n",
       "      <td>NaN</td>\n",
       "      <td>NaN</td>\n",
       "      <td>NaN</td>\n",
       "      <td>-0.085463</td>\n",
       "      <td>-0.005440</td>\n",
       "      <td>-0.012772</td>\n",
       "      <td>-0.010061</td>\n",
       "      <td>-0.082903</td>\n",
       "      <td>-0.042554</td>\n",
       "      <td>0.007265</td>\n",
       "      <td>...</td>\n",
       "      <td>-0.169490</td>\n",
       "      <td>-0.060967</td>\n",
       "      <td>0.357497</td>\n",
       "      <td>-0.036252</td>\n",
       "      <td>-0.024130</td>\n",
       "      <td>0.023198</td>\n",
       "      <td>-0.021839</td>\n",
       "      <td>-0.008605</td>\n",
       "      <td>0.041500</td>\n",
       "      <td>-0.009427</td>\n",
       "    </tr>\n",
       "    <tr>\n",
       "      <th>X14</th>\n",
       "      <td>NaN</td>\n",
       "      <td>NaN</td>\n",
       "      <td>NaN</td>\n",
       "      <td>NaN</td>\n",
       "      <td>-0.018964</td>\n",
       "      <td>-0.044522</td>\n",
       "      <td>-0.076130</td>\n",
       "      <td>-0.288997</td>\n",
       "      <td>-0.353256</td>\n",
       "      <td>-0.044522</td>\n",
       "      <td>...</td>\n",
       "      <td>0.117537</td>\n",
       "      <td>0.026465</td>\n",
       "      <td>-0.098476</td>\n",
       "      <td>-0.038081</td>\n",
       "      <td>0.102449</td>\n",
       "      <td>0.007861</td>\n",
       "      <td>0.012860</td>\n",
       "      <td>0.026104</td>\n",
       "      <td>0.025370</td>\n",
       "      <td>0.043964</td>\n",
       "    </tr>\n",
       "    <tr>\n",
       "      <th>X15</th>\n",
       "      <td>NaN</td>\n",
       "      <td>NaN</td>\n",
       "      <td>NaN</td>\n",
       "      <td>NaN</td>\n",
       "      <td>NaN</td>\n",
       "      <td>-0.001130</td>\n",
       "      <td>-0.001931</td>\n",
       "      <td>-0.007332</td>\n",
       "      <td>-0.008962</td>\n",
       "      <td>-0.001130</td>\n",
       "      <td>...</td>\n",
       "      <td>-0.014990</td>\n",
       "      <td>-0.005392</td>\n",
       "      <td>0.032401</td>\n",
       "      <td>-0.003206</td>\n",
       "      <td>-0.002134</td>\n",
       "      <td>-0.001991</td>\n",
       "      <td>-0.001931</td>\n",
       "      <td>-0.000761</td>\n",
       "      <td>-0.000481</td>\n",
       "      <td>-0.000834</td>\n",
       "    </tr>\n",
       "  </tbody>\n",
       "</table>\n",
       "<p>5 rows × 308 columns</p>\n",
       "</div>"
      ],
      "text/plain": [
       "     X10       X12       X13       X14       X15       X16       X18  \\\n",
       "X10  NaN -0.033155 -0.028975 -0.101005 -0.002563 -0.006016 -0.010287   \n",
       "X12  NaN       NaN  0.215648 -0.245361 -0.006225 -0.014614 -0.024990   \n",
       "X13  NaN       NaN       NaN -0.085463 -0.005440 -0.012772 -0.010061   \n",
       "X14  NaN       NaN       NaN       NaN -0.018964 -0.044522 -0.076130   \n",
       "X15  NaN       NaN       NaN       NaN       NaN -0.001130 -0.001931   \n",
       "\n",
       "          X19       X20       X21  ...      X375      X376      X377  \\\n",
       "X10 -0.039051 -0.047735 -0.006016  ...  0.166474 -0.028719 -0.074593   \n",
       "X12 -0.094864 -0.115957 -0.014614  ... -0.111403 -0.069763  0.030725   \n",
       "X13 -0.082903 -0.042554  0.007265  ... -0.169490 -0.060967  0.357497   \n",
       "X14 -0.288997 -0.353256 -0.044522  ...  0.117537  0.026465 -0.098476   \n",
       "X15 -0.007332 -0.008962 -0.001130  ... -0.014990 -0.005392  0.032401   \n",
       "\n",
       "         X378      X379      X380      X382      X383      X384      X385  \n",
       "X10 -0.017077 -0.011367 -0.010606 -0.010287 -0.004053 -0.002563 -0.004441  \n",
       "X12 -0.015895 -0.027612 -0.005432 -0.024990 -0.009846 -0.006225 -0.010787  \n",
       "X13 -0.036252 -0.024130  0.023198 -0.021839 -0.008605  0.041500 -0.009427  \n",
       "X14 -0.038081  0.102449  0.007861  0.012860  0.026104  0.025370  0.043964  \n",
       "X15 -0.003206 -0.002134 -0.001991 -0.001931 -0.000761 -0.000481 -0.000834  \n",
       "\n",
       "[5 rows x 308 columns]"
      ]
     },
     "execution_count": 133,
     "metadata": {},
     "output_type": "execute_result"
    }
   ],
   "source": [
    "new_corr_matrix = train[binary_data].corr()\n",
    "upper_tri2 = new_corr_matrix.where(np.triu(np.ones(new_corr_matrix.shape),k=1).astype(np.bool))\n",
    "upper_tri2.head()"
   ]
  },
  {
   "cell_type": "code",
   "execution_count": 134,
   "id": "1f32e2ce",
   "metadata": {},
   "outputs": [
    {
     "data": {
      "text/plain": [
       "{'X61': ['X52'],\n",
       " 'X98': ['X80'],\n",
       " 'X101': ['X80', 'X98'],\n",
       " 'X111': ['X66'],\n",
       " 'X119': ['X115'],\n",
       " 'X120': ['X61'],\n",
       " 'X126': ['X80'],\n",
       " 'X128': ['X80'],\n",
       " 'X129': ['X49'],\n",
       " 'X130': ['X80', 'X128'],\n",
       " 'X132': ['X45'],\n",
       " 'X136': ['X76'],\n",
       " 'X146': ['X140'],\n",
       " 'X148': ['X28'],\n",
       " 'X150': ['X96'],\n",
       " 'X161': ['X45'],\n",
       " 'X162': ['X76', 'X136'],\n",
       " 'X166': ['X76', 'X136', 'X162'],\n",
       " 'X171': ['X168'],\n",
       " 'X178': ['X14'],\n",
       " 'X179': ['X80', 'X101', 'X126', 'X128', 'X130'],\n",
       " 'X187': ['X85'],\n",
       " 'X191': ['X14'],\n",
       " 'X194': ['X85', 'X187'],\n",
       " 'X198': ['X66', 'X111', 'X170'],\n",
       " 'X199': ['X183'],\n",
       " 'X215': ['X19'],\n",
       " 'X217': ['X99'],\n",
       " 'X222': ['X66', 'X111', 'X170', 'X198'],\n",
       " 'X229': ['X228'],\n",
       " 'X238': ['X189'],\n",
       " 'X242': ['X99', 'X217'],\n",
       " 'X244': ['X241'],\n",
       " 'X245': ['X87'],\n",
       " 'X246': ['X187', 'X194'],\n",
       " 'X247': ['X45', 'X161'],\n",
       " 'X249': ['X99', 'X217', 'X242'],\n",
       " 'X250': ['X14', 'X178'],\n",
       " 'X251': ['X14', 'X178', 'X191', 'X224', 'X250'],\n",
       " 'X261': ['X127'],\n",
       " 'X264': ['X80', 'X126', 'X179'],\n",
       " 'X265': ['X189', 'X238'],\n",
       " 'X267': ['X47'],\n",
       " 'X272': ['X76', 'X136', 'X162', 'X166'],\n",
       " 'X276': ['X76', 'X136', 'X162', 'X166', 'X272'],\n",
       " 'X277': ['X167'],\n",
       " 'X279': ['X76', 'X136', 'X162', 'X166', 'X272', 'X276'],\n",
       " 'X304': ['X80', 'X101'],\n",
       " 'X308': ['X239'],\n",
       " 'X311': ['X119'],\n",
       " 'X314': ['X127', 'X261'],\n",
       " 'X317': ['X302'],\n",
       " 'X320': ['X99', 'X217', 'X242', 'X249'],\n",
       " 'X321': ['X154'],\n",
       " 'X324': ['X137'],\n",
       " 'X328': ['X76', 'X136', 'X162', 'X166', 'X272', 'X276', 'X279'],\n",
       " 'X337': ['X334'],\n",
       " 'X346': ['X197', 'X331'],\n",
       " 'X348': ['X80',\n",
       "  'X98',\n",
       "  'X101',\n",
       "  'X126',\n",
       "  'X128',\n",
       "  'X130',\n",
       "  'X179',\n",
       "  'X264',\n",
       "  'X304'],\n",
       " 'X349': ['X331', 'X346'],\n",
       " 'X352': ['X331', 'X346', 'X349'],\n",
       " 'X356': ['X247'],\n",
       " 'X357': ['X87'],\n",
       " 'X358': ['X194', 'X246'],\n",
       " 'X360': ['X219'],\n",
       " 'X362': ['X85', 'X187', 'X194', 'X246', 'X358'],\n",
       " 'X363': ['X96', 'X150'],\n",
       " 'X367': ['X331', 'X346', 'X349', 'X352'],\n",
       " 'X368': ['X208'],\n",
       " 'X370': ['X239', 'X308'],\n",
       " 'X371': ['X108'],\n",
       " 'X373': ['X333'],\n",
       " 'X374': ['X154', 'X321'],\n",
       " 'X376': ['X343'],\n",
       " 'X378': ['X185'],\n",
       " 'X379': ['X63'],\n",
       " 'X382': ['X325']}"
      ]
     },
     "execution_count": 134,
     "metadata": {},
     "output_type": "execute_result"
    }
   ],
   "source": [
    "#Setting threshold to 0.8\n",
    "strong_corr = {}\n",
    "for i in upper_tri2:\n",
    "    strong_corr[i] = []\n",
    "    for pos,val in enumerate(upper_tri2[i].values):\n",
    "        if 0.8 <= val < 1 or -1 < val <= -0.8:\n",
    "            correlated_column = new_corr_matrix.columns[pos]\n",
    "            strong_corr[i].append(correlated_column)\n",
    "strong_corr = {k:v for k,v in strong_corr.items() if v}\n",
    "strong_corr"
   ]
  },
  {
   "cell_type": "markdown",
   "id": "2edd6205",
   "metadata": {},
   "source": [
    "#### Looking at above, some of the variables are strongly correlated with many other features. "
   ]
  },
  {
   "cell_type": "code",
   "execution_count": 135,
   "id": "81896576",
   "metadata": {},
   "outputs": [
    {
     "name": "stdout",
     "output_type": "stream",
     "text": [
      "{'X111', 'X76', 'X150', 'X334', 'X191', 'X249', 'X130', 'X170', 'X264', 'X276', 'X66', 'X119', 'X217', 'X239', 'X346', 'X14', 'X140', 'X197', 'X272', 'X162', 'X137', 'X136', 'X219', 'X101', 'X52', 'X47', 'X224', 'X168', 'X261', 'X19', 'X352', 'X343', 'X179', 'X127', 'X238', 'X331', 'X115', 'X349', 'X325', 'X87', 'X178', 'X189', 'X99', 'X228', 'X108', 'X183', 'X49', 'X304', 'X166', 'X279', 'X321', 'X358', 'X333', 'X187', 'X98', 'X96', 'X126', 'X302', 'X85', 'X28', 'X61', 'X128', 'X247', 'X185', 'X250', 'X198', 'X208', 'X246', 'X241', 'X161', 'X167', 'X45', 'X63', 'X308', 'X194', 'X242', 'X80', 'X154'}\n"
     ]
    }
   ],
   "source": [
    "cols_to_drop2 = []\n",
    "for col in strong_corr.keys():\n",
    "    for val in strong_corr[col]:\n",
    "        cols_to_drop2.append(val)\n",
    "cols_to_drop2 = set(cols_to_drop2)\n",
    "print(cols_to_drop2)"
   ]
  },
  {
   "cell_type": "markdown",
   "id": "6c0d870f",
   "metadata": {},
   "source": [
    "#### We can remove these features too as they are highly correlated."
   ]
  },
  {
   "cell_type": "code",
   "execution_count": 136,
   "id": "91400584",
   "metadata": {},
   "outputs": [
    {
     "data": {
      "text/plain": [
       "(4159, 239)"
      ]
     },
     "execution_count": 136,
     "metadata": {},
     "output_type": "execute_result"
    }
   ],
   "source": [
    "train.drop(cols_to_drop2, axis=1, inplace=True)\n",
    "train.shape"
   ]
  },
  {
   "cell_type": "markdown",
   "id": "812acd38",
   "metadata": {},
   "source": [
    "### Feature Engineering"
   ]
  },
  {
   "cell_type": "markdown",
   "id": "b4bf17ad",
   "metadata": {},
   "source": [
    "#### Applying label encoding to categorical data."
   ]
  },
  {
   "cell_type": "code",
   "execution_count": 137,
   "id": "fb92c24b",
   "metadata": {},
   "outputs": [],
   "source": [
    "le_encoder = LabelEncoder()"
   ]
  },
  {
   "cell_type": "code",
   "execution_count": 138,
   "id": "dbda1a2f",
   "metadata": {},
   "outputs": [],
   "source": [
    "for col in multi_value_data:\n",
    "    train[col] =le_encoder.fit_transform(train[col])"
   ]
  },
  {
   "cell_type": "code",
   "execution_count": 139,
   "id": "e2201ed6",
   "metadata": {},
   "outputs": [
    {
     "data": {
      "text/html": [
       "<div>\n",
       "<style scoped>\n",
       "    .dataframe tbody tr th:only-of-type {\n",
       "        vertical-align: middle;\n",
       "    }\n",
       "\n",
       "    .dataframe tbody tr th {\n",
       "        vertical-align: top;\n",
       "    }\n",
       "\n",
       "    .dataframe thead th {\n",
       "        text-align: right;\n",
       "    }\n",
       "</style>\n",
       "<table border=\"1\" class=\"dataframe\">\n",
       "  <thead>\n",
       "    <tr style=\"text-align: right;\">\n",
       "      <th></th>\n",
       "      <th>X0</th>\n",
       "      <th>X1</th>\n",
       "      <th>X2</th>\n",
       "      <th>X3</th>\n",
       "      <th>X4</th>\n",
       "      <th>X5</th>\n",
       "      <th>X6</th>\n",
       "      <th>X8</th>\n",
       "    </tr>\n",
       "  </thead>\n",
       "  <tbody>\n",
       "    <tr>\n",
       "      <th>count</th>\n",
       "      <td>4159.00000</td>\n",
       "      <td>4159.000000</td>\n",
       "      <td>4159.000000</td>\n",
       "      <td>4159.000000</td>\n",
       "      <td>4159.000000</td>\n",
       "      <td>4159.000000</td>\n",
       "      <td>4159.000000</td>\n",
       "      <td>4159.000000</td>\n",
       "    </tr>\n",
       "    <tr>\n",
       "      <th>mean</th>\n",
       "      <td>29.77158</td>\n",
       "      <td>11.111565</td>\n",
       "      <td>16.289252</td>\n",
       "      <td>2.927386</td>\n",
       "      <td>2.997836</td>\n",
       "      <td>13.347439</td>\n",
       "      <td>6.802356</td>\n",
       "      <td>11.596057</td>\n",
       "    </tr>\n",
       "    <tr>\n",
       "      <th>std</th>\n",
       "      <td>13.70323</td>\n",
       "      <td>8.541164</td>\n",
       "      <td>10.869941</td>\n",
       "      <td>1.743129</td>\n",
       "      <td>0.074343</td>\n",
       "      <td>8.255815</td>\n",
       "      <td>2.918878</td>\n",
       "      <td>7.037954</td>\n",
       "    </tr>\n",
       "    <tr>\n",
       "      <th>min</th>\n",
       "      <td>0.00000</td>\n",
       "      <td>0.000000</td>\n",
       "      <td>0.000000</td>\n",
       "      <td>0.000000</td>\n",
       "      <td>0.000000</td>\n",
       "      <td>0.000000</td>\n",
       "      <td>0.000000</td>\n",
       "      <td>0.000000</td>\n",
       "    </tr>\n",
       "    <tr>\n",
       "      <th>25%</th>\n",
       "      <td>19.00000</td>\n",
       "      <td>3.000000</td>\n",
       "      <td>7.000000</td>\n",
       "      <td>2.000000</td>\n",
       "      <td>3.000000</td>\n",
       "      <td>5.000000</td>\n",
       "      <td>6.000000</td>\n",
       "      <td>5.000000</td>\n",
       "    </tr>\n",
       "    <tr>\n",
       "      <th>50%</th>\n",
       "      <td>35.00000</td>\n",
       "      <td>13.000000</td>\n",
       "      <td>15.000000</td>\n",
       "      <td>2.000000</td>\n",
       "      <td>3.000000</td>\n",
       "      <td>15.000000</td>\n",
       "      <td>7.000000</td>\n",
       "      <td>11.000000</td>\n",
       "    </tr>\n",
       "    <tr>\n",
       "      <th>75%</th>\n",
       "      <td>43.00000</td>\n",
       "      <td>20.000000</td>\n",
       "      <td>24.000000</td>\n",
       "      <td>5.000000</td>\n",
       "      <td>3.000000</td>\n",
       "      <td>21.000000</td>\n",
       "      <td>9.000000</td>\n",
       "      <td>18.000000</td>\n",
       "    </tr>\n",
       "    <tr>\n",
       "      <th>max</th>\n",
       "      <td>46.00000</td>\n",
       "      <td>26.000000</td>\n",
       "      <td>42.000000</td>\n",
       "      <td>6.000000</td>\n",
       "      <td>3.000000</td>\n",
       "      <td>28.000000</td>\n",
       "      <td>11.000000</td>\n",
       "      <td>24.000000</td>\n",
       "    </tr>\n",
       "  </tbody>\n",
       "</table>\n",
       "</div>"
      ],
      "text/plain": [
       "               X0           X1           X2           X3           X4  \\\n",
       "count  4159.00000  4159.000000  4159.000000  4159.000000  4159.000000   \n",
       "mean     29.77158    11.111565    16.289252     2.927386     2.997836   \n",
       "std      13.70323     8.541164    10.869941     1.743129     0.074343   \n",
       "min       0.00000     0.000000     0.000000     0.000000     0.000000   \n",
       "25%      19.00000     3.000000     7.000000     2.000000     3.000000   \n",
       "50%      35.00000    13.000000    15.000000     2.000000     3.000000   \n",
       "75%      43.00000    20.000000    24.000000     5.000000     3.000000   \n",
       "max      46.00000    26.000000    42.000000     6.000000     3.000000   \n",
       "\n",
       "                X5           X6           X8  \n",
       "count  4159.000000  4159.000000  4159.000000  \n",
       "mean     13.347439     6.802356    11.596057  \n",
       "std       8.255815     2.918878     7.037954  \n",
       "min       0.000000     0.000000     0.000000  \n",
       "25%       5.000000     6.000000     5.000000  \n",
       "50%      15.000000     7.000000    11.000000  \n",
       "75%      21.000000     9.000000    18.000000  \n",
       "max      28.000000    11.000000    24.000000  "
      ]
     },
     "execution_count": 139,
     "metadata": {},
     "output_type": "execute_result"
    }
   ],
   "source": [
    "train[multi_value_data].describe()"
   ]
  },
  {
   "cell_type": "markdown",
   "id": "200fcdc8",
   "metadata": {},
   "source": [
    "#### The values has been transformed to ordinal measures."
   ]
  },
  {
   "cell_type": "markdown",
   "id": "9c9c2604",
   "metadata": {},
   "source": [
    "#### Splitting data into train and test"
   ]
  },
  {
   "cell_type": "code",
   "execution_count": 140,
   "id": "f844746a",
   "metadata": {},
   "outputs": [
    {
     "data": {
      "text/plain": [
       "((4159, 238), (4159,))"
      ]
     },
     "execution_count": 140,
     "metadata": {},
     "output_type": "execute_result"
    }
   ],
   "source": [
    "features = train.drop('y', axis=1)\n",
    "target = train['y']\n",
    "X = features.to_numpy()\n",
    "y = target.to_numpy()\n",
    "X.shape, y.shape\n"
   ]
  },
  {
   "cell_type": "markdown",
   "id": "e78c526a",
   "metadata": {},
   "source": [
    "#### Feature importance analysis\n",
    "\n",
    "- As there are all categorical cols, so we can not apply PCA.\n",
    "\n",
    "- This is a complex relationship, we'll use Gini Importance value to do the dimensionality reduction.\n",
    "\n",
    "- The model to find the irrelevent features is Random Forest Regressor."
   ]
  },
  {
   "cell_type": "code",
   "execution_count": 141,
   "id": "e9e1c895",
   "metadata": {},
   "outputs": [],
   "source": [
    "#splitting the dataset into training and testing.\n",
    "X_train, X_test, y_train, y_test = train_test_split(X,y,test_size=0.25,random_state=1)"
   ]
  },
  {
   "cell_type": "code",
   "execution_count": 142,
   "id": "bd8d667f",
   "metadata": {},
   "outputs": [
    {
     "data": {
      "text/plain": [
       "RandomForestRegressor(max_depth=5, min_samples_split=15, n_estimators=500,\n",
       "                      n_jobs=-1, random_state=1)"
      ]
     },
     "execution_count": 142,
     "metadata": {},
     "output_type": "execute_result"
    }
   ],
   "source": [
    "#Initiating the model.\n",
    "rf_reg = RandomForestRegressor(n_estimators=500, max_depth=5,min_samples_split=15,n_jobs=-1,random_state=1)\n",
    "rf_reg.fit(X_train,y_train)"
   ]
  },
  {
   "cell_type": "code",
   "execution_count": 143,
   "id": "3944a380",
   "metadata": {},
   "outputs": [
    {
     "data": {
      "text/plain": [
       "0.666220684628148"
      ]
     },
     "execution_count": 143,
     "metadata": {},
     "output_type": "execute_result"
    }
   ],
   "source": [
    "#Goodness of fit on training data\n",
    "rf_reg.score(X_train, y_train)"
   ]
  },
  {
   "cell_type": "code",
   "execution_count": 144,
   "id": "f1f07591",
   "metadata": {},
   "outputs": [
    {
     "data": {
      "text/plain": [
       "0.6430599656722557"
      ]
     },
     "execution_count": 144,
     "metadata": {},
     "output_type": "execute_result"
    }
   ],
   "source": [
    "#goodness of fit on test data\n",
    "rf_reg.score(X_test,y_test)"
   ]
  },
  {
   "cell_type": "code",
   "execution_count": 145,
   "id": "b53f63f3",
   "metadata": {},
   "outputs": [],
   "source": [
    "features_df = pd.DataFrame({'cols': features.columns,'Gini Importance': rf_reg.feature_importances_})\n",
    "features_df.sort_values(by='Gini Importance',ascending=False,inplace=True)"
   ]
  },
  {
   "cell_type": "code",
   "execution_count": 146,
   "id": "027ad27a",
   "metadata": {},
   "outputs": [
    {
     "data": {
      "text/plain": [
       "array(['X341', 'X357', 'X384', 'X369', 'X320', 'X332', 'X372', 'X335',\n",
       "       'X370', 'X383', 'X212', 'X318', 'X95', 'X190', 'X169', 'X165',\n",
       "       'X160', 'X159', 'X124', 'X123', 'X110', 'X106', 'X104', 'X92',\n",
       "       'X313', 'X91', 'X86', 'X83', 'X59', 'X57', 'X42', 'X39', 'X36',\n",
       "       'X30', 'X15', 'X192', 'X199', 'X200', 'X204', 'X301', 'X299',\n",
       "       'X296', 'X288', 'X281', 'X280', 'X278', 'X277', 'X270', 'X269',\n",
       "       'X259', 'X258', 'X257', 'X252', 'X245', 'X236', 'X231', 'X216',\n",
       "       'X215', 'X210', 'X207', 'X385'], dtype=object)"
      ]
     },
     "execution_count": 146,
     "metadata": {},
     "output_type": "execute_result"
    }
   ],
   "source": [
    "#Least important features.\n",
    "features_df[features_df['Gini Importance']==0]['cols'].values"
   ]
  },
  {
   "cell_type": "markdown",
   "id": "21ab5afa",
   "metadata": {},
   "source": [
    "#### The above all features have 0 gini value.\n",
    "#### We can drop it and run the model again."
   ]
  },
  {
   "cell_type": "code",
   "execution_count": 147,
   "id": "bc171d63",
   "metadata": {},
   "outputs": [
    {
     "data": {
      "text/plain": [
       "(4159, 177)"
      ]
     },
     "execution_count": 147,
     "metadata": {},
     "output_type": "execute_result"
    }
   ],
   "source": [
    "features_to_drop = features_df[features_df['Gini Importance']==0]['cols'].values\n",
    "features_new = features.drop(features_to_drop, axis=1)\n",
    "\n",
    "features_new.shape"
   ]
  },
  {
   "cell_type": "code",
   "execution_count": 148,
   "id": "a7d20081",
   "metadata": {},
   "outputs": [],
   "source": [
    "X = features_new.to_numpy()\n",
    "y = target.to_numpy()\n",
    "\n",
    "X_train, X_test, y_train, y_test = train_test_split(X,y,test_size=0.25,random_state=1)\n"
   ]
  },
  {
   "cell_type": "code",
   "execution_count": 149,
   "id": "bf7469ef",
   "metadata": {},
   "outputs": [
    {
     "data": {
      "text/plain": [
       "RandomForestRegressor(max_depth=5, min_samples_split=15, n_estimators=500,\n",
       "                      n_jobs=-1, random_state=1)"
      ]
     },
     "execution_count": 149,
     "metadata": {},
     "output_type": "execute_result"
    }
   ],
   "source": [
    "rf_reg.fit(X_train, y_train)"
   ]
  },
  {
   "cell_type": "code",
   "execution_count": 150,
   "id": "a9089b97",
   "metadata": {},
   "outputs": [
    {
     "data": {
      "text/plain": [
       "0.6662138324311206"
      ]
     },
     "execution_count": 150,
     "metadata": {},
     "output_type": "execute_result"
    }
   ],
   "source": [
    "rf_reg.score(X_train,y_train)"
   ]
  },
  {
   "cell_type": "code",
   "execution_count": 151,
   "id": "788a8e8c",
   "metadata": {},
   "outputs": [
    {
     "data": {
      "text/plain": [
       "0.6429833730203152"
      ]
     },
     "execution_count": 151,
     "metadata": {},
     "output_type": "execute_result"
    }
   ],
   "source": [
    "rf_reg.score(X_test,y_test)"
   ]
  },
  {
   "cell_type": "code",
   "execution_count": 152,
   "id": "5561043e",
   "metadata": {},
   "outputs": [
    {
     "data": {
      "text/plain": [
       "array(['X227', 'X379', 'X287'], dtype=object)"
      ]
     },
     "execution_count": 152,
     "metadata": {},
     "output_type": "execute_result"
    }
   ],
   "source": [
    "features_df = pd.DataFrame({'cols': features_new.columns,'Gini Importance': rf_reg.feature_importances_})\n",
    "features_df.sort_values(by='Gini Importance',ascending=False,inplace=True)\n",
    "features_df[features_df['Gini Importance']==0]['cols'].values"
   ]
  },
  {
   "cell_type": "code",
   "execution_count": 153,
   "id": "711a75b6",
   "metadata": {},
   "outputs": [
    {
     "data": {
      "text/plain": [
       "(4159, 174)"
      ]
     },
     "execution_count": 153,
     "metadata": {},
     "output_type": "execute_result"
    }
   ],
   "source": [
    "features_to_drop2 = features_df[features_df['Gini Importance']==0]['cols'].values\n",
    "features_new2 = features_new.drop(features_to_drop2, axis=1)\n",
    "features_new2.shape\n"
   ]
  },
  {
   "cell_type": "code",
   "execution_count": 154,
   "id": "ac1b7f8a",
   "metadata": {},
   "outputs": [],
   "source": [
    "X = features_new2.to_numpy()\n",
    "y = target.to_numpy()\n",
    "X.shape, y.shape\n",
    "X_train, X_test, y_train, y_test = train_test_split(X,y,test_size=0.25,random_state=1)"
   ]
  },
  {
   "cell_type": "code",
   "execution_count": 155,
   "id": "8ced143a",
   "metadata": {},
   "outputs": [
    {
     "data": {
      "text/plain": [
       "0.6661824712197844"
      ]
     },
     "execution_count": 155,
     "metadata": {},
     "output_type": "execute_result"
    }
   ],
   "source": [
    "rf_reg.fit(X_train, y_train)\n",
    "rf_reg.score(X_train, y_train)"
   ]
  },
  {
   "cell_type": "code",
   "execution_count": 156,
   "id": "921da70a",
   "metadata": {},
   "outputs": [
    {
     "data": {
      "text/plain": [
       "0.6430376409541096"
      ]
     },
     "execution_count": 156,
     "metadata": {},
     "output_type": "execute_result"
    }
   ],
   "source": [
    "rf_reg.score(X_test,y_test)"
   ]
  },
  {
   "cell_type": "markdown",
   "id": "0ba60d5c",
   "metadata": {},
   "source": [
    "#### There isn't significant difference\n",
    "#### Let's drop more irrelevent features."
   ]
  },
  {
   "cell_type": "code",
   "execution_count": 157,
   "id": "fbfb2d2c",
   "metadata": {},
   "outputs": [
    {
     "data": {
      "text/plain": [
       "array(['X234', 'X221'], dtype=object)"
      ]
     },
     "execution_count": 157,
     "metadata": {},
     "output_type": "execute_result"
    }
   ],
   "source": [
    "features_df = pd.DataFrame({'cols': features_new2.columns,'Gini Importance': rf_reg.feature_importances_})\n",
    "features_df.sort_values(by='Gini Importance',ascending=False,inplace=True)\n",
    "features_df[features_df['Gini Importance']==0]['cols'].values"
   ]
  },
  {
   "cell_type": "code",
   "execution_count": 158,
   "id": "df99c16d",
   "metadata": {},
   "outputs": [
    {
     "data": {
      "text/plain": [
       "(4159, 172)"
      ]
     },
     "execution_count": 158,
     "metadata": {},
     "output_type": "execute_result"
    }
   ],
   "source": [
    "features_to_drop3 = features_df[features_df['Gini Importance']==0]['cols'].values\n",
    "features_new3 = features_new2.drop(features_to_drop3, axis=1)\n",
    "features_new3.shape"
   ]
  },
  {
   "cell_type": "code",
   "execution_count": 159,
   "id": "b577f706",
   "metadata": {},
   "outputs": [],
   "source": [
    "X = features_new2.to_numpy()\n",
    "y = target.to_numpy()\n",
    "X_train, X_test, y_train, y_test = train_test_split(X,y,test_size=0.25,random_state=1)"
   ]
  },
  {
   "cell_type": "code",
   "execution_count": 160,
   "id": "3f15d62c",
   "metadata": {},
   "outputs": [
    {
     "data": {
      "text/plain": [
       "0.6661824712197844"
      ]
     },
     "execution_count": 160,
     "metadata": {},
     "output_type": "execute_result"
    }
   ],
   "source": [
    "rf_reg.fit(X_train, y_train)\n",
    "rf_reg.score(X_train, y_train)"
   ]
  },
  {
   "cell_type": "code",
   "execution_count": 161,
   "id": "9d304b7e",
   "metadata": {},
   "outputs": [
    {
     "data": {
      "text/plain": [
       "0.6430376409541096"
      ]
     },
     "execution_count": 161,
     "metadata": {},
     "output_type": "execute_result"
    }
   ],
   "source": [
    "rf_reg.score(X_test, y_test)"
   ]
  },
  {
   "cell_type": "code",
   "execution_count": 162,
   "id": "78ecc48c",
   "metadata": {},
   "outputs": [
    {
     "data": {
      "image/png": "[encoded data removed]",
      "text/plain": [
       "<Figure size 720x432 with 1 Axes>"
      ]
     },
     "metadata": {},
     "output_type": "display_data"
    }
   ],
   "source": [
    "# Top 20 features.\n",
    "plt.figure(figsize=(10,6))\n",
    "sns.barplot(x='cols',y='Gini Importance',data=features_df.tail(20),color='b')\n",
    "plt.title('Top 20 Features a/c to Gini Importance',fontsize=15)\n",
    "plt.show()"
   ]
  },
  {
   "cell_type": "code",
   "execution_count": 163,
   "id": "869da366",
   "metadata": {},
   "outputs": [
    {
     "data": {
      "image/png": "[encoded data removed]",
      "text/plain": [
       "<Figure size 720x432 with 1 Axes>"
      ]
     },
     "metadata": {},
     "output_type": "display_data"
    }
   ],
   "source": [
    "plt.figure(figsize=(10,6))\n",
    "sns.barplot(x='cols',y='Gini Importance',data=features_df.head(20),color='b')\n",
    "plt.title('Top 20 least important Features a/c to Gini Importance',fontsize=15)\n",
    "plt.show()"
   ]
  },
  {
   "cell_type": "markdown",
   "id": "7abe5edb",
   "metadata": {},
   "source": [
    "### Training the model"
   ]
  },
  {
   "cell_type": "markdown",
   "id": "96242498",
   "metadata": {},
   "source": [
    "### Random Forest Regressor "
   ]
  },
  {
   "cell_type": "code",
   "execution_count": 164,
   "id": "35bdd0b1",
   "metadata": {},
   "outputs": [],
   "source": [
    "X = features_new3.to_numpy(dtype='int64')\n",
    "y = target.to_numpy(dtype='float64')\n",
    "#changing the random state\n",
    "X_train, X_test, y_train, y_test = train_test_split(X,y,test_size=0.25,random_state=101)"
   ]
  },
  {
   "cell_type": "code",
   "execution_count": 165,
   "id": "b0189918",
   "metadata": {},
   "outputs": [
    {
     "data": {
      "text/plain": [
       "((3119, 172), (3119,), (1040, 172), (1040,))"
      ]
     },
     "execution_count": 165,
     "metadata": {},
     "output_type": "execute_result"
    }
   ],
   "source": [
    "X_train.shape,y_train.shape,X_test.shape,y_test.shape"
   ]
  },
  {
   "cell_type": "code",
   "execution_count": 169,
   "id": "38d44305",
   "metadata": {},
   "outputs": [],
   "source": [
    "rf_reg = RandomForestRegressor(n_estimators=500, max_depth=5,\n",
    "                              min_samples_split=20,\n",
    "                            random_state=101,n_jobs=-1)\n"
   ]
  },
  {
   "cell_type": "code",
   "execution_count": 170,
   "id": "9e9c2439",
   "metadata": {},
   "outputs": [
    {
     "data": {
      "text/plain": [
       "RandomForestRegressor(max_depth=5, min_samples_split=20, n_estimators=500,\n",
       "                      n_jobs=-1, random_state=101)"
      ]
     },
     "execution_count": 170,
     "metadata": {},
     "output_type": "execute_result"
    }
   ],
   "source": [
    "rf_reg.fit(X_train, y_train)"
   ]
  },
  {
   "cell_type": "code",
   "execution_count": 171,
   "id": "a78c5ccf",
   "metadata": {},
   "outputs": [
    {
     "data": {
      "text/plain": [
       "0.6637104324958023"
      ]
     },
     "execution_count": 171,
     "metadata": {},
     "output_type": "execute_result"
    }
   ],
   "source": [
    "# Goodness of fit on training data.\n",
    "rf_reg.score(X_train,y_train)"
   ]
  },
  {
   "cell_type": "code",
   "execution_count": 172,
   "id": "d1696f14",
   "metadata": {},
   "outputs": [
    {
     "data": {
      "text/plain": [
       "0.6583568423539743"
      ]
     },
     "execution_count": 172,
     "metadata": {},
     "output_type": "execute_result"
    }
   ],
   "source": [
    "# Goodness of fit on test data.\n",
    "rf_reg.score(X_test,y_test)"
   ]
  },
  {
   "cell_type": "code",
   "execution_count": 173,
   "id": "8640fbf8",
   "metadata": {},
   "outputs": [],
   "source": [
    "# Prediction on test data.\n",
    "rf_pred = rf_reg.predict(X_test)"
   ]
  },
  {
   "cell_type": "code",
   "execution_count": 174,
   "id": "451160a6",
   "metadata": {},
   "outputs": [
    {
     "name": "stdout",
     "output_type": "stream",
     "text": [
      "RMSE of Random Forest Regressor =  6.655746800570139\n"
     ]
    }
   ],
   "source": [
    "# Root Mean Squared Error.\n",
    "rf_rmse = np.sqrt(mean_squared_error(y_test,rf_pred))\n",
    "print('RMSE of Random Forest Regressor = ',rf_rmse)"
   ]
  },
  {
   "cell_type": "code",
   "execution_count": 175,
   "id": "26bf4c10",
   "metadata": {},
   "outputs": [
    {
     "data": {
      "text/html": [
       "<div>\n",
       "<style scoped>\n",
       "    .dataframe tbody tr th:only-of-type {\n",
       "        vertical-align: middle;\n",
       "    }\n",
       "\n",
       "    .dataframe tbody tr th {\n",
       "        vertical-align: top;\n",
       "    }\n",
       "\n",
       "    .dataframe thead th {\n",
       "        text-align: right;\n",
       "    }\n",
       "</style>\n",
       "<table border=\"1\" class=\"dataframe\">\n",
       "  <thead>\n",
       "    <tr style=\"text-align: right;\">\n",
       "      <th></th>\n",
       "      <th>actual_values</th>\n",
       "      <th>predicted_values</th>\n",
       "      <th>residuals</th>\n",
       "      <th>% error</th>\n",
       "    </tr>\n",
       "  </thead>\n",
       "  <tbody>\n",
       "    <tr>\n",
       "      <th>883</th>\n",
       "      <td>100.63</td>\n",
       "      <td>111.17</td>\n",
       "      <td>-10.54</td>\n",
       "      <td>-10.474014</td>\n",
       "    </tr>\n",
       "    <tr>\n",
       "      <th>561</th>\n",
       "      <td>108.06</td>\n",
       "      <td>118.49</td>\n",
       "      <td>-10.43</td>\n",
       "      <td>-9.652045</td>\n",
       "    </tr>\n",
       "    <tr>\n",
       "      <th>471</th>\n",
       "      <td>93.83</td>\n",
       "      <td>103.79</td>\n",
       "      <td>-9.96</td>\n",
       "      <td>-10.614942</td>\n",
       "    </tr>\n",
       "    <tr>\n",
       "      <th>116</th>\n",
       "      <td>73.36</td>\n",
       "      <td>82.81</td>\n",
       "      <td>-9.45</td>\n",
       "      <td>-12.881679</td>\n",
       "    </tr>\n",
       "    <tr>\n",
       "      <th>864</th>\n",
       "      <td>84.76</td>\n",
       "      <td>94.00</td>\n",
       "      <td>-9.24</td>\n",
       "      <td>-10.901369</td>\n",
       "    </tr>\n",
       "    <tr>\n",
       "      <th>...</th>\n",
       "      <td>...</td>\n",
       "      <td>...</td>\n",
       "      <td>...</td>\n",
       "      <td>...</td>\n",
       "    </tr>\n",
       "    <tr>\n",
       "      <th>350</th>\n",
       "      <td>128.76</td>\n",
       "      <td>93.75</td>\n",
       "      <td>35.01</td>\n",
       "      <td>27.190121</td>\n",
       "    </tr>\n",
       "    <tr>\n",
       "      <th>10</th>\n",
       "      <td>128.94</td>\n",
       "      <td>93.87</td>\n",
       "      <td>35.07</td>\n",
       "      <td>27.198697</td>\n",
       "    </tr>\n",
       "    <tr>\n",
       "      <th>638</th>\n",
       "      <td>129.16</td>\n",
       "      <td>93.73</td>\n",
       "      <td>35.43</td>\n",
       "      <td>27.431093</td>\n",
       "    </tr>\n",
       "    <tr>\n",
       "      <th>307</th>\n",
       "      <td>130.81</td>\n",
       "      <td>94.36</td>\n",
       "      <td>36.45</td>\n",
       "      <td>27.864842</td>\n",
       "    </tr>\n",
       "    <tr>\n",
       "      <th>274</th>\n",
       "      <td>135.29</td>\n",
       "      <td>93.87</td>\n",
       "      <td>41.42</td>\n",
       "      <td>30.615714</td>\n",
       "    </tr>\n",
       "  </tbody>\n",
       "</table>\n",
       "<p>1040 rows × 4 columns</p>\n",
       "</div>"
      ],
      "text/plain": [
       "     actual_values  predicted_values  residuals    % error\n",
       "883         100.63            111.17     -10.54 -10.474014\n",
       "561         108.06            118.49     -10.43  -9.652045\n",
       "471          93.83            103.79      -9.96 -10.614942\n",
       "116          73.36             82.81      -9.45 -12.881679\n",
       "864          84.76             94.00      -9.24 -10.901369\n",
       "..             ...               ...        ...        ...\n",
       "350         128.76             93.75      35.01  27.190121\n",
       "10          128.94             93.87      35.07  27.198697\n",
       "638         129.16             93.73      35.43  27.431093\n",
       "307         130.81             94.36      36.45  27.864842\n",
       "274         135.29             93.87      41.42  30.615714\n",
       "\n",
       "[1040 rows x 4 columns]"
      ]
     },
     "execution_count": 175,
     "metadata": {},
     "output_type": "execute_result"
    }
   ],
   "source": [
    "rf_reg_pred_df = pd.DataFrame({'actual_values': y_test,\n",
    "                                       'predicted_values':np.round(rf_pred,2),\n",
    "                                       'residuals':np.round(y_test-rf_pred,2)})\n",
    "rf_reg_pred_df['% error'] = rf_reg_pred_df['residuals']/rf_reg_pred_df['actual_values'] * 100\n",
    "rf_reg_pred_df.sort_values('residuals')\n"
   ]
  },
  {
   "cell_type": "code",
   "execution_count": 176,
   "id": "0a3a98c4",
   "metadata": {},
   "outputs": [
    {
     "data": {
      "image/png": "[encoded data removed]",
      "text/plain": [
       "<Figure size 720x432 with 1 Axes>"
      ]
     },
     "metadata": {},
     "output_type": "display_data"
    }
   ],
   "source": [
    "plt.figure(figsize=(10,6))\n",
    "sns.scatterplot(x='actual_values',y='predicted_values',data=rf_reg_pred_df)\n",
    "plt.title('Actual Vs Predicted',size=15)\n",
    "plt.show()"
   ]
  },
  {
   "cell_type": "markdown",
   "id": "b558892e",
   "metadata": {},
   "source": [
    "#### The predictions seems to be concentrated on level-wise."
   ]
  },
  {
   "cell_type": "markdown",
   "id": "d70519c4",
   "metadata": {},
   "source": [
    "#### XGBRegressor"
   ]
  },
  {
   "cell_type": "code",
   "execution_count": 177,
   "id": "0f3396d5",
   "metadata": {},
   "outputs": [
    {
     "data": {
      "text/plain": [
       "XGBRegressor(base_score=0.5, booster='gbtree', callbacks=None,\n",
       "             colsample_bylevel=1, colsample_bynode=1, colsample_bytree=0.7,\n",
       "             early_stopping_rounds=None, enable_categorical=False,\n",
       "             eval_metric=None, gamma=0, gpu_id=-1, grow_policy='depthwise',\n",
       "             importance_type=None, interaction_constraints='',\n",
       "             learning_rate=0.08, max_bin=256, max_cat_to_onehot=4,\n",
       "             max_delta_step=0, max_depth=5, max_leaves=0, min_child_weight=20,\n",
       "             missing=nan, monotone_constraints='()', n_estimators=500, n_jobs=0,\n",
       "             num_parallel_tree=1, predictor='auto', random_state=0, reg_alpha=0,\n",
       "             reg_lambda=1, ...)"
      ]
     },
     "execution_count": 177,
     "metadata": {},
     "output_type": "execute_result"
    }
   ],
   "source": [
    "xgb_reg = XGBRegressor(objective=\"reg:squarederror\",booster='gbtree',learning_rate=0.08,\n",
    "                     colsample_bytree=0.7,max_depth=5,min_child_weight=20,\n",
    "                     n_estimators=500)\n",
    "xgb_reg.fit(X_train,y_train)"
   ]
  },
  {
   "cell_type": "code",
   "execution_count": 178,
   "id": "8defe448",
   "metadata": {},
   "outputs": [
    {
     "data": {
      "text/plain": [
       "0.81611239979287"
      ]
     },
     "execution_count": 178,
     "metadata": {},
     "output_type": "execute_result"
    }
   ],
   "source": [
    "# Goodness of fit on training data\n",
    "xgb_reg.score(X_train,y_train)"
   ]
  },
  {
   "cell_type": "code",
   "execution_count": 179,
   "id": "81323a87",
   "metadata": {},
   "outputs": [
    {
     "data": {
      "text/plain": [
       "0.6197268008919512"
      ]
     },
     "execution_count": 179,
     "metadata": {},
     "output_type": "execute_result"
    }
   ],
   "source": [
    "# Goodness of fit on test data.\n",
    "xgb_reg.score(X_test,y_test)"
   ]
  },
  {
   "cell_type": "code",
   "execution_count": 180,
   "id": "5f56e158",
   "metadata": {},
   "outputs": [
    {
     "name": "stdout",
     "output_type": "stream",
     "text": [
      "RMSE of model =  7.021958971682534\n"
     ]
    }
   ],
   "source": [
    "xgb_pred = xgb_reg.predict(X_test)\n",
    "print('RMSE of model = ',np.sqrt(mean_squared_error(y_test,xgb_pred)))"
   ]
  },
  {
   "cell_type": "code",
   "execution_count": 181,
   "id": "665fbaa9",
   "metadata": {},
   "outputs": [
    {
     "data": {
      "text/html": [
       "<div>\n",
       "<style scoped>\n",
       "    .dataframe tbody tr th:only-of-type {\n",
       "        vertical-align: middle;\n",
       "    }\n",
       "\n",
       "    .dataframe tbody tr th {\n",
       "        vertical-align: top;\n",
       "    }\n",
       "\n",
       "    .dataframe thead th {\n",
       "        text-align: right;\n",
       "    }\n",
       "</style>\n",
       "<table border=\"1\" class=\"dataframe\">\n",
       "  <thead>\n",
       "    <tr style=\"text-align: right;\">\n",
       "      <th></th>\n",
       "      <th>actual_values</th>\n",
       "      <th>xgb_predicted_values</th>\n",
       "      <th>residuals</th>\n",
       "      <th>% error</th>\n",
       "    </tr>\n",
       "  </thead>\n",
       "  <tbody>\n",
       "    <tr>\n",
       "      <th>708</th>\n",
       "      <td>87.95</td>\n",
       "      <td>105.239998</td>\n",
       "      <td>-17.29</td>\n",
       "      <td>-19.658897</td>\n",
       "    </tr>\n",
       "    <tr>\n",
       "      <th>820</th>\n",
       "      <td>88.00</td>\n",
       "      <td>104.139999</td>\n",
       "      <td>-16.14</td>\n",
       "      <td>-18.340909</td>\n",
       "    </tr>\n",
       "    <tr>\n",
       "      <th>596</th>\n",
       "      <td>89.62</td>\n",
       "      <td>103.410004</td>\n",
       "      <td>-13.79</td>\n",
       "      <td>-15.387190</td>\n",
       "    </tr>\n",
       "    <tr>\n",
       "      <th>285</th>\n",
       "      <td>90.13</td>\n",
       "      <td>103.209999</td>\n",
       "      <td>-13.08</td>\n",
       "      <td>-14.512371</td>\n",
       "    </tr>\n",
       "    <tr>\n",
       "      <th>57</th>\n",
       "      <td>89.34</td>\n",
       "      <td>102.199997</td>\n",
       "      <td>-12.86</td>\n",
       "      <td>-14.394448</td>\n",
       "    </tr>\n",
       "    <tr>\n",
       "      <th>...</th>\n",
       "      <td>...</td>\n",
       "      <td>...</td>\n",
       "      <td>...</td>\n",
       "      <td>...</td>\n",
       "    </tr>\n",
       "    <tr>\n",
       "      <th>61</th>\n",
       "      <td>128.37</td>\n",
       "      <td>92.339996</td>\n",
       "      <td>36.03</td>\n",
       "      <td>28.067305</td>\n",
       "    </tr>\n",
       "    <tr>\n",
       "      <th>10</th>\n",
       "      <td>128.94</td>\n",
       "      <td>91.550003</td>\n",
       "      <td>37.39</td>\n",
       "      <td>28.997984</td>\n",
       "    </tr>\n",
       "    <tr>\n",
       "      <th>307</th>\n",
       "      <td>130.81</td>\n",
       "      <td>93.320000</td>\n",
       "      <td>37.49</td>\n",
       "      <td>28.659888</td>\n",
       "    </tr>\n",
       "    <tr>\n",
       "      <th>638</th>\n",
       "      <td>129.16</td>\n",
       "      <td>91.510002</td>\n",
       "      <td>37.65</td>\n",
       "      <td>29.149892</td>\n",
       "    </tr>\n",
       "    <tr>\n",
       "      <th>274</th>\n",
       "      <td>135.29</td>\n",
       "      <td>95.309998</td>\n",
       "      <td>39.98</td>\n",
       "      <td>29.551334</td>\n",
       "    </tr>\n",
       "  </tbody>\n",
       "</table>\n",
       "<p>1040 rows × 4 columns</p>\n",
       "</div>"
      ],
      "text/plain": [
       "     actual_values  xgb_predicted_values  residuals    % error\n",
       "708          87.95            105.239998     -17.29 -19.658897\n",
       "820          88.00            104.139999     -16.14 -18.340909\n",
       "596          89.62            103.410004     -13.79 -15.387190\n",
       "285          90.13            103.209999     -13.08 -14.512371\n",
       "57           89.34            102.199997     -12.86 -14.394448\n",
       "..             ...                   ...        ...        ...\n",
       "61          128.37             92.339996      36.03  28.067305\n",
       "10          128.94             91.550003      37.39  28.997984\n",
       "307         130.81             93.320000      37.49  28.659888\n",
       "638         129.16             91.510002      37.65  29.149892\n",
       "274         135.29             95.309998      39.98  29.551334\n",
       "\n",
       "[1040 rows x 4 columns]"
      ]
     },
     "execution_count": 181,
     "metadata": {},
     "output_type": "execute_result"
    }
   ],
   "source": [
    "xgb_pred_df = pd.DataFrame({'actual_values': y_test,\n",
    "                                       'xgb_predicted_values':np.round(xgb_pred,2),\n",
    "                                       'residuals':np.round(y_test-xgb_pred,2)})\n",
    "xgb_pred_df['% error'] = xgb_pred_df['residuals']/xgb_pred_df['actual_values'] * 100\n",
    "xgb_pred_df.sort_values('residuals')"
   ]
  },
  {
   "cell_type": "code",
   "execution_count": 182,
   "id": "12668c0c",
   "metadata": {},
   "outputs": [
    {
     "data": {
      "image/png": "[encoded data removed]",
      "text/plain": [
       "<Figure size 864x432 with 1 Axes>"
      ]
     },
     "metadata": {},
     "output_type": "display_data"
    }
   ],
   "source": [
    "plt.figure(figsize=(12,6))\n",
    "sns.scatterplot(x='actual_values',y='xgb_predicted_values',data=xgb_pred_df)\n",
    "plt.show()"
   ]
  },
  {
   "cell_type": "markdown",
   "id": "2736684d",
   "metadata": {},
   "source": [
    "### SVM Regressor\n"
   ]
  },
  {
   "cell_type": "code",
   "execution_count": 183,
   "id": "f5192fc7",
   "metadata": {},
   "outputs": [
    {
     "data": {
      "text/plain": [
       "SVR(kernel='linear')"
      ]
     },
     "execution_count": 183,
     "metadata": {},
     "output_type": "execute_result"
    }
   ],
   "source": [
    "svm_reg = SVR(kernel='linear')\n",
    "svm_reg.fit(X_train,y_train)"
   ]
  },
  {
   "cell_type": "code",
   "execution_count": 184,
   "id": "810fdd82",
   "metadata": {},
   "outputs": [
    {
     "data": {
      "text/plain": [
       "0.6194304884918964"
      ]
     },
     "execution_count": 184,
     "metadata": {},
     "output_type": "execute_result"
    }
   ],
   "source": [
    "# Goodness of fit on training data.\n",
    "svm_reg.score(X_train,y_train)"
   ]
  },
  {
   "cell_type": "code",
   "execution_count": 186,
   "id": "1c17dc2d",
   "metadata": {},
   "outputs": [
    {
     "data": {
      "text/plain": [
       "0.6172769671893296"
      ]
     },
     "execution_count": 186,
     "metadata": {},
     "output_type": "execute_result"
    }
   ],
   "source": [
    "# Goodness of fit on test data\n",
    "svm_reg.score(X_test,y_test)"
   ]
  },
  {
   "cell_type": "code",
   "execution_count": 187,
   "id": "35ad40ee",
   "metadata": {},
   "outputs": [
    {
     "name": "stdout",
     "output_type": "stream",
     "text": [
      "RMSE of model =  7.044541439432648\n"
     ]
    }
   ],
   "source": [
    "svm_pred = svm_reg.predict(X_test)\n",
    "print('RMSE of model = ',np.sqrt(mean_squared_error(y_test,svm_pred)))"
   ]
  },
  {
   "cell_type": "code",
   "execution_count": 188,
   "id": "bc51dd4c",
   "metadata": {},
   "outputs": [
    {
     "data": {
      "text/html": [
       "<div>\n",
       "<style scoped>\n",
       "    .dataframe tbody tr th:only-of-type {\n",
       "        vertical-align: middle;\n",
       "    }\n",
       "\n",
       "    .dataframe tbody tr th {\n",
       "        vertical-align: top;\n",
       "    }\n",
       "\n",
       "    .dataframe thead th {\n",
       "        text-align: right;\n",
       "    }\n",
       "</style>\n",
       "<table border=\"1\" class=\"dataframe\">\n",
       "  <thead>\n",
       "    <tr style=\"text-align: right;\">\n",
       "      <th></th>\n",
       "      <th>actual_values</th>\n",
       "      <th>svm_predicted_values</th>\n",
       "      <th>residuals</th>\n",
       "      <th>% error</th>\n",
       "    </tr>\n",
       "  </thead>\n",
       "  <tbody>\n",
       "    <tr>\n",
       "      <th>627</th>\n",
       "      <td>97.02</td>\n",
       "      <td>107.68</td>\n",
       "      <td>-10.66</td>\n",
       "      <td>-10.987425</td>\n",
       "    </tr>\n",
       "    <tr>\n",
       "      <th>714</th>\n",
       "      <td>96.26</td>\n",
       "      <td>106.14</td>\n",
       "      <td>-9.88</td>\n",
       "      <td>-10.263869</td>\n",
       "    </tr>\n",
       "    <tr>\n",
       "      <th>775</th>\n",
       "      <td>94.83</td>\n",
       "      <td>103.99</td>\n",
       "      <td>-9.16</td>\n",
       "      <td>-9.659390</td>\n",
       "    </tr>\n",
       "    <tr>\n",
       "      <th>578</th>\n",
       "      <td>98.16</td>\n",
       "      <td>107.22</td>\n",
       "      <td>-9.06</td>\n",
       "      <td>-9.229829</td>\n",
       "    </tr>\n",
       "    <tr>\n",
       "      <th>464</th>\n",
       "      <td>84.85</td>\n",
       "      <td>93.84</td>\n",
       "      <td>-8.99</td>\n",
       "      <td>-10.595168</td>\n",
       "    </tr>\n",
       "    <tr>\n",
       "      <th>...</th>\n",
       "      <td>...</td>\n",
       "      <td>...</td>\n",
       "      <td>...</td>\n",
       "      <td>...</td>\n",
       "    </tr>\n",
       "    <tr>\n",
       "      <th>307</th>\n",
       "      <td>130.81</td>\n",
       "      <td>94.53</td>\n",
       "      <td>36.28</td>\n",
       "      <td>27.734883</td>\n",
       "    </tr>\n",
       "    <tr>\n",
       "      <th>638</th>\n",
       "      <td>129.16</td>\n",
       "      <td>91.79</td>\n",
       "      <td>37.37</td>\n",
       "      <td>28.933106</td>\n",
       "    </tr>\n",
       "    <tr>\n",
       "      <th>61</th>\n",
       "      <td>128.37</td>\n",
       "      <td>90.33</td>\n",
       "      <td>38.04</td>\n",
       "      <td>29.633092</td>\n",
       "    </tr>\n",
       "    <tr>\n",
       "      <th>10</th>\n",
       "      <td>128.94</td>\n",
       "      <td>90.18</td>\n",
       "      <td>38.76</td>\n",
       "      <td>30.060493</td>\n",
       "    </tr>\n",
       "    <tr>\n",
       "      <th>274</th>\n",
       "      <td>135.29</td>\n",
       "      <td>85.32</td>\n",
       "      <td>49.97</td>\n",
       "      <td>36.935472</td>\n",
       "    </tr>\n",
       "  </tbody>\n",
       "</table>\n",
       "<p>1040 rows × 4 columns</p>\n",
       "</div>"
      ],
      "text/plain": [
       "     actual_values  svm_predicted_values  residuals    % error\n",
       "627          97.02                107.68     -10.66 -10.987425\n",
       "714          96.26                106.14      -9.88 -10.263869\n",
       "775          94.83                103.99      -9.16  -9.659390\n",
       "578          98.16                107.22      -9.06  -9.229829\n",
       "464          84.85                 93.84      -8.99 -10.595168\n",
       "..             ...                   ...        ...        ...\n",
       "307         130.81                 94.53      36.28  27.734883\n",
       "638         129.16                 91.79      37.37  28.933106\n",
       "61          128.37                 90.33      38.04  29.633092\n",
       "10          128.94                 90.18      38.76  30.060493\n",
       "274         135.29                 85.32      49.97  36.935472\n",
       "\n",
       "[1040 rows x 4 columns]"
      ]
     },
     "execution_count": 188,
     "metadata": {},
     "output_type": "execute_result"
    }
   ],
   "source": [
    "svm_prediction_analysis_df = pd.DataFrame({'actual_values': y_test,\n",
    "                                       'svm_predicted_values':np.round(svm_pred,2),\n",
    "                                       'residuals':np.round(y_test-svm_pred,2)})\n",
    "svm_prediction_analysis_df['% error'] = svm_prediction_analysis_df['residuals']/svm_prediction_analysis_df['actual_values'] * 100\n",
    "svm_prediction_analysis_df.sort_values('residuals')"
   ]
  },
  {
   "cell_type": "code",
   "execution_count": 189,
   "id": "c5bc7b3c",
   "metadata": {},
   "outputs": [
    {
     "data": {
      "image/png": "[encoded data removed]",
      "text/plain": [
       "<Figure size 864x432 with 1 Axes>"
      ]
     },
     "metadata": {},
     "output_type": "display_data"
    }
   ],
   "source": [
    "plt.figure(figsize=(12,6))\n",
    "sns.scatterplot(x='actual_values',y='svm_predicted_values',data=svm_prediction_analysis_df)\n",
    "plt.show()"
   ]
  },
  {
   "cell_type": "markdown",
   "id": "69c9538f",
   "metadata": {},
   "source": [
    "#### The predictions are very scattered"
   ]
  },
  {
   "cell_type": "markdown",
   "id": "96aa0b4b",
   "metadata": {},
   "source": [
    "### ElasticNet Regression "
   ]
  },
  {
   "cell_type": "code",
   "execution_count": 191,
   "id": "aab1b0b2",
   "metadata": {},
   "outputs": [
    {
     "data": {
      "text/plain": [
       "ElasticNet(alpha=0.1)"
      ]
     },
     "execution_count": 191,
     "metadata": {},
     "output_type": "execute_result"
    }
   ],
   "source": [
    "linear_reg = ElasticNet(alpha=0.1)\n",
    "linear_reg.fit(X_train,y_train)"
   ]
  },
  {
   "cell_type": "code",
   "execution_count": 192,
   "id": "322db64e",
   "metadata": {},
   "outputs": [
    {
     "data": {
      "text/plain": [
       "0.5761701410942806"
      ]
     },
     "execution_count": 192,
     "metadata": {},
     "output_type": "execute_result"
    }
   ],
   "source": [
    "linear_reg.score(X_train,y_train)"
   ]
  },
  {
   "cell_type": "code",
   "execution_count": 193,
   "id": "1f3d26dc",
   "metadata": {},
   "outputs": [
    {
     "data": {
      "text/plain": [
       "0.5750253545366634"
      ]
     },
     "execution_count": 193,
     "metadata": {},
     "output_type": "execute_result"
    }
   ],
   "source": [
    "linear_reg.score(X_test,y_test)"
   ]
  },
  {
   "cell_type": "code",
   "execution_count": 194,
   "id": "4acbcf9e",
   "metadata": {},
   "outputs": [
    {
     "name": "stdout",
     "output_type": "stream",
     "text": [
      "RMSE of model =  7.423213278935057\n"
     ]
    }
   ],
   "source": [
    "linear_pred = linear_reg.predict(X_test)\n",
    "print('RMSE of model = ',np.sqrt(mean_squared_error(y_test,linear_pred)))"
   ]
  },
  {
   "cell_type": "code",
   "execution_count": 195,
   "id": "6c7c6d51",
   "metadata": {},
   "outputs": [
    {
     "data": {
      "text/html": [
       "<div>\n",
       "<style scoped>\n",
       "    .dataframe tbody tr th:only-of-type {\n",
       "        vertical-align: middle;\n",
       "    }\n",
       "\n",
       "    .dataframe tbody tr th {\n",
       "        vertical-align: top;\n",
       "    }\n",
       "\n",
       "    .dataframe thead th {\n",
       "        text-align: right;\n",
       "    }\n",
       "</style>\n",
       "<table border=\"1\" class=\"dataframe\">\n",
       "  <thead>\n",
       "    <tr style=\"text-align: right;\">\n",
       "      <th></th>\n",
       "      <th>actual_values</th>\n",
       "      <th>linear_predicted_values</th>\n",
       "      <th>residuals</th>\n",
       "      <th>% error</th>\n",
       "    </tr>\n",
       "  </thead>\n",
       "  <tbody>\n",
       "    <tr>\n",
       "      <th>464</th>\n",
       "      <td>84.85</td>\n",
       "      <td>99.18</td>\n",
       "      <td>-14.33</td>\n",
       "      <td>-16.888627</td>\n",
       "    </tr>\n",
       "    <tr>\n",
       "      <th>477</th>\n",
       "      <td>85.91</td>\n",
       "      <td>99.73</td>\n",
       "      <td>-13.82</td>\n",
       "      <td>-16.086602</td>\n",
       "    </tr>\n",
       "    <tr>\n",
       "      <th>471</th>\n",
       "      <td>93.83</td>\n",
       "      <td>107.15</td>\n",
       "      <td>-13.32</td>\n",
       "      <td>-14.195886</td>\n",
       "    </tr>\n",
       "    <tr>\n",
       "      <th>500</th>\n",
       "      <td>77.45</td>\n",
       "      <td>90.70</td>\n",
       "      <td>-13.25</td>\n",
       "      <td>-17.107811</td>\n",
       "    </tr>\n",
       "    <tr>\n",
       "      <th>991</th>\n",
       "      <td>73.70</td>\n",
       "      <td>86.70</td>\n",
       "      <td>-13.00</td>\n",
       "      <td>-17.639077</td>\n",
       "    </tr>\n",
       "    <tr>\n",
       "      <th>...</th>\n",
       "      <td>...</td>\n",
       "      <td>...</td>\n",
       "      <td>...</td>\n",
       "      <td>...</td>\n",
       "    </tr>\n",
       "    <tr>\n",
       "      <th>10</th>\n",
       "      <td>128.94</td>\n",
       "      <td>95.00</td>\n",
       "      <td>33.94</td>\n",
       "      <td>26.322320</td>\n",
       "    </tr>\n",
       "    <tr>\n",
       "      <th>638</th>\n",
       "      <td>129.16</td>\n",
       "      <td>93.25</td>\n",
       "      <td>35.91</td>\n",
       "      <td>27.802725</td>\n",
       "    </tr>\n",
       "    <tr>\n",
       "      <th>307</th>\n",
       "      <td>130.81</td>\n",
       "      <td>93.77</td>\n",
       "      <td>37.04</td>\n",
       "      <td>28.315878</td>\n",
       "    </tr>\n",
       "    <tr>\n",
       "      <th>61</th>\n",
       "      <td>128.37</td>\n",
       "      <td>91.05</td>\n",
       "      <td>37.32</td>\n",
       "      <td>29.072213</td>\n",
       "    </tr>\n",
       "    <tr>\n",
       "      <th>274</th>\n",
       "      <td>135.29</td>\n",
       "      <td>92.45</td>\n",
       "      <td>42.84</td>\n",
       "      <td>31.665312</td>\n",
       "    </tr>\n",
       "  </tbody>\n",
       "</table>\n",
       "<p>1040 rows × 4 columns</p>\n",
       "</div>"
      ],
      "text/plain": [
       "     actual_values  linear_predicted_values  residuals    % error\n",
       "464          84.85                    99.18     -14.33 -16.888627\n",
       "477          85.91                    99.73     -13.82 -16.086602\n",
       "471          93.83                   107.15     -13.32 -14.195886\n",
       "500          77.45                    90.70     -13.25 -17.107811\n",
       "991          73.70                    86.70     -13.00 -17.639077\n",
       "..             ...                      ...        ...        ...\n",
       "10          128.94                    95.00      33.94  26.322320\n",
       "638         129.16                    93.25      35.91  27.802725\n",
       "307         130.81                    93.77      37.04  28.315878\n",
       "61          128.37                    91.05      37.32  29.072213\n",
       "274         135.29                    92.45      42.84  31.665312\n",
       "\n",
       "[1040 rows x 4 columns]"
      ]
     },
     "execution_count": 195,
     "metadata": {},
     "output_type": "execute_result"
    }
   ],
   "source": [
    "linear_prediction_analysis_df = pd.DataFrame({'actual_values': y_test,\n",
    "                                       'linear_predicted_values':np.round(linear_pred,2),\n",
    "                                       'residuals':np.round(y_test-linear_pred,2)})\n",
    "linear_prediction_analysis_df['% error'] = linear_prediction_analysis_df['residuals']/linear_prediction_analysis_df['actual_values'] * 100\n",
    "linear_prediction_analysis_df.sort_values('residuals')"
   ]
  },
  {
   "cell_type": "code",
   "execution_count": 196,
   "id": "9ac9c2a6",
   "metadata": {},
   "outputs": [
    {
     "data": {
      "text/plain": [
       "count    1040.000000\n",
       "mean        0.014779\n",
       "std         7.426773\n",
       "min       -14.330000\n",
       "25%        -5.042500\n",
       "50%        -1.270000\n",
       "75%         3.012500\n",
       "max        42.840000\n",
       "Name: residuals, dtype: float64"
      ]
     },
     "execution_count": 196,
     "metadata": {},
     "output_type": "execute_result"
    }
   ],
   "source": [
    "linear_prediction_analysis_df['residuals'].describe()\n"
   ]
  },
  {
   "cell_type": "code",
   "execution_count": 197,
   "id": "c25404d4",
   "metadata": {},
   "outputs": [
    {
     "data": {
      "image/png": "[encoded data removed]",
      "text/plain": [
       "<Figure size 864x432 with 1 Axes>"
      ]
     },
     "metadata": {},
     "output_type": "display_data"
    }
   ],
   "source": [
    "plt.figure(figsize=(12,6))\n",
    "sns.scatterplot(x='actual_values',y='linear_predicted_values',data=linear_prediction_analysis_df)\n",
    "plt.show()"
   ]
  },
  {
   "cell_type": "markdown",
   "id": "058b4e88",
   "metadata": {},
   "source": [
    "#### Model Vlidation"
   ]
  },
  {
   "cell_type": "markdown",
   "id": "6f00d1a6",
   "metadata": {},
   "source": [
    "#### Out of all models, XGB Regressor has best goodness of fit on training data and residuals seems to be less and uniformly scattered.\n",
    "\n",
    "#### Although Random Forest model has less rmse but XGB predictions seems to be more apt."
   ]
  },
  {
   "cell_type": "code",
   "execution_count": 198,
   "id": "5515b403",
   "metadata": {},
   "outputs": [
    {
     "data": {
      "text/plain": [
       "array([0.57537242, 0.64827513, 0.60252814, 0.61910839, 0.6456205 ,\n",
       "       0.64788015, 0.51999466, 0.62712529, 0.56105051, 0.54518018])"
      ]
     },
     "execution_count": 198,
     "metadata": {},
     "output_type": "execute_result"
    }
   ],
   "source": [
    "# K-fold Cross Validation.\n",
    "scores = cross_val_score(estimator=xgb_reg,X=X_train,y=y_train,cv=10,n_jobs=-1)\n",
    "scores"
   ]
  },
  {
   "cell_type": "code",
   "execution_count": 199,
   "id": "b28eb125",
   "metadata": {},
   "outputs": [
    {
     "data": {
      "text/plain": [
       "(0.6482751315742836, 0.5199946596281773)"
      ]
     },
     "execution_count": 199,
     "metadata": {},
     "output_type": "execute_result"
    }
   ],
   "source": [
    "np.max(scores),np.min(scores)"
   ]
  },
  {
   "cell_type": "code",
   "execution_count": 200,
   "id": "9897726c",
   "metadata": {},
   "outputs": [
    {
     "data": {
      "text/plain": [
       "0.043971573475491056"
      ]
     },
     "execution_count": 200,
     "metadata": {},
     "output_type": "execute_result"
    }
   ],
   "source": [
    "np.std(scores)"
   ]
  },
  {
   "cell_type": "code",
   "execution_count": 201,
   "id": "08e5ee23",
   "metadata": {},
   "outputs": [
    {
     "data": {
      "text/plain": [
       "0.5992135373141755"
      ]
     },
     "execution_count": 201,
     "metadata": {},
     "output_type": "execute_result"
    }
   ],
   "source": [
    "np.mean(scores)"
   ]
  },
  {
   "cell_type": "markdown",
   "id": "c2ffc5eb",
   "metadata": {},
   "source": [
    "#### The mean score is close to 60 and there is very less sd."
   ]
  },
  {
   "cell_type": "code",
   "execution_count": 202,
   "id": "19ddfe3a",
   "metadata": {},
   "outputs": [
    {
     "data": {
      "text/plain": [
       "ShapiroResult(statistic=0.8744947910308838, pvalue=4.081772590710559e-28)"
      ]
     },
     "execution_count": 202,
     "metadata": {},
     "output_type": "execute_result"
    }
   ],
   "source": [
    "# Test for normality\n",
    "shapiro_test = shapiro(xgb_pred_df['residuals'])\n",
    "shapiro_test"
   ]
  },
  {
   "cell_type": "code",
   "execution_count": 203,
   "id": "14fa086a",
   "metadata": {},
   "outputs": [
    {
     "data": {
      "text/plain": [
       "True"
      ]
     },
     "execution_count": 203,
     "metadata": {},
     "output_type": "execute_result"
    }
   ],
   "source": [
    "1.3157420138200243e-28 < 0.05"
   ]
  },
  {
   "cell_type": "markdown",
   "id": "919c319f",
   "metadata": {},
   "source": [
    "### Test confirms normally distributed."
   ]
  },
  {
   "cell_type": "code",
   "execution_count": 204,
   "id": "8f6d97fd",
   "metadata": {},
   "outputs": [
    {
     "data": {
      "image/png": "[encoded data removed]",
      "text/plain": [
       "<Figure size 720x432 with 1 Axes>"
      ]
     },
     "metadata": {},
     "output_type": "display_data"
    }
   ],
   "source": [
    "# Residuals distribution.\n",
    "plt.figure(figsize=(10,6))\n",
    "sns.kdeplot(x='residuals', shade=True, data=xgb_pred_df)\n",
    "plt.title('Residuals Distribution',size=15)\n",
    "plt.show()\n"
   ]
  },
  {
   "cell_type": "markdown",
   "id": "04ed0412",
   "metadata": {},
   "source": [
    "##### The distribution is skewed to right\n",
    "#### There are large errors in right tails (above + 3std)"
   ]
  },
  {
   "cell_type": "markdown",
   "id": "ca0ba664",
   "metadata": {},
   "source": [
    "#### Preddictions on Test Data"
   ]
  },
  {
   "cell_type": "code",
   "execution_count": null,
   "id": "6de644f4",
   "metadata": {},
   "outputs": [],
   "source": []
  },
  {
   "cell_type": "code",
   "execution_count": null,
   "id": "80d7b5ac",
   "metadata": {},
   "outputs": [],
   "source": []
  },
  {
   "cell_type": "code",
   "execution_count": null,
   "id": "14718007",
   "metadata": {},
   "outputs": [],
   "source": []
  },
  {
   "cell_type": "code",
   "execution_count": null,
   "id": "ac048b36",
   "metadata": {},
   "outputs": [],
   "source": []
  },
  {
   "cell_type": "code",
   "execution_count": null,
   "id": "82af7235",
   "metadata": {},
   "outputs": [],
   "source": []
  }
 ],
 "metadata": {
  "kernelspec": {
   "display_name": "Python 3 (ipykernel)",
   "language": "python",
   "name": "python3"
  },
  "language_info": {
   "codemirror_mode": {
    "name": "ipython",
    "version": 3
   },
   "file_extension": ".py",
   "mimetype": "text/x-python",
   "name": "python",
   "nbconvert_exporter": "python",
   "pygments_lexer": "ipython3",
   "version": "3.9.7"
  }
 },
 "nbformat": 4,
 "nbformat_minor": 5
}
